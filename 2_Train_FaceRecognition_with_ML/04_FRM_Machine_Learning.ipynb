{
 "cells": [
  {
   "cell_type": "code",
   "execution_count": 2,
   "id": "b8521bd1",
   "metadata": {},
   "outputs": [],
   "source": [
    "import numpy as np\n",
    "import pandas as pd\n",
    "\n",
    "from sklearn.model_selection import train_test_split\n",
    "from sklearn.svm import SVC\n",
    "from sklearn.model_selection import GridSearchCV\n",
    "from sklearn import metrics"
   ]
  },
  {
   "cell_type": "code",
   "execution_count": 4,
   "id": "925f1151",
   "metadata": {},
   "outputs": [
    {
     "data": {
      "text/plain": [
       "['arr_0', 'arr_1']"
      ]
     },
     "execution_count": 4,
     "metadata": {},
     "output_type": "execute_result"
    }
   ],
   "source": [
    "# load numpy array\n",
    "data = np.load(\"./data/data_pca_50_target.npz\")\n",
    "data.files"
   ]
  },
  {
   "cell_type": "code",
   "execution_count": 5,
   "id": "3f1a7958",
   "metadata": {},
   "outputs": [],
   "source": [
    "data.allow_pickle = True"
   ]
  },
  {
   "cell_type": "code",
   "execution_count": 6,
   "id": "018e5759",
   "metadata": {},
   "outputs": [],
   "source": [
    "X = data['arr_0'] #pca with 50 components\n",
    "y = data[\"arr_1\"] # target or dependent\n"
   ]
  },
  {
   "cell_type": "code",
   "execution_count": 7,
   "id": "06f2d414",
   "metadata": {},
   "outputs": [
    {
     "data": {
      "text/plain": [
       "(4555, 50)"
      ]
     },
     "execution_count": 7,
     "metadata": {},
     "output_type": "execute_result"
    }
   ],
   "source": [
    "X.shape"
   ]
  },
  {
   "cell_type": "code",
   "execution_count": 8,
   "id": "ce76de07",
   "metadata": {},
   "outputs": [
    {
     "data": {
      "text/plain": [
       "(4555,)"
      ]
     },
     "execution_count": 8,
     "metadata": {},
     "output_type": "execute_result"
    }
   ],
   "source": [
    "y.shape"
   ]
  },
  {
   "cell_type": "code",
   "execution_count": 9,
   "id": "b8af2522",
   "metadata": {},
   "outputs": [
    {
     "data": {
      "text/plain": [
       "array(['gender', 'gender', 'gender', ..., 'male', 'male', 'male'],\n",
       "      dtype=object)"
      ]
     },
     "execution_count": 9,
     "metadata": {},
     "output_type": "execute_result"
    }
   ],
   "source": [
    "y"
   ]
  },
  {
   "cell_type": "markdown",
   "id": "f63d5a42",
   "metadata": {},
   "source": [
    "## split the data into training and testing"
   ]
  },
  {
   "cell_type": "code",
   "execution_count": 11,
   "id": "146e4db0",
   "metadata": {},
   "outputs": [
    {
     "name": "stdout",
     "output_type": "stream",
     "text": [
      "(3644, 50) (911, 50) (3644,) (911,)\n"
     ]
    }
   ],
   "source": [
    "x_train,x_test,y_train,y_test = train_test_split(X,y,test_size=0.2,stratify=y)\n",
    "print(x_train.shape,x_test.shape,y_train.shape,y_test.shape)"
   ]
  },
  {
   "cell_type": "markdown",
   "id": "e6fa7219",
   "metadata": {},
   "source": [
    "### Traning Machine learning model"
   ]
  },
  {
   "cell_type": "code",
   "execution_count": 22,
   "id": "2b1f72f3",
   "metadata": {},
   "outputs": [],
   "source": [
    "# support vector clasifier best for image \n",
    "model_svc = SVC(probability=True)\n",
    "\n",
    "param_grid = {'C':[0.5,1,10,20,30,50],\n",
    "             \"kernel\":[\"rbf\",\"poly\"],\n",
    "             \"gamma\":[0.1,0.05,0.01,0.001,0.002,0.005],\n",
    "             \"coef0\":[0,1]\n",
    "            }"
   ]
  },
  {
   "cell_type": "code",
   "execution_count": 23,
   "id": "14e27ce4",
   "metadata": {},
   "outputs": [],
   "source": [
    "model_grid = GridSearchCV(model_svc,param_grid=param_grid,scoring='accuracy',cv=3,verbose=2)"
   ]
  },
  {
   "cell_type": "code",
   "execution_count": 24,
   "id": "0da804a4",
   "metadata": {},
   "outputs": [
    {
     "name": "stdout",
     "output_type": "stream",
     "text": [
      "Fitting 3 folds for each of 144 candidates, totalling 432 fits\n",
      "[CV] END ..............C=0.5, coef0=0, gamma=0.1, kernel=rbf; total time=   8.5s\n",
      "[CV] END ..............C=0.5, coef0=0, gamma=0.1, kernel=rbf; total time=   7.7s\n",
      "[CV] END ..............C=0.5, coef0=0, gamma=0.1, kernel=rbf; total time=   7.4s\n",
      "[CV] END .............C=0.5, coef0=0, gamma=0.1, kernel=poly; total time=   5.7s\n",
      "[CV] END .............C=0.5, coef0=0, gamma=0.1, kernel=poly; total time=   5.1s\n",
      "[CV] END .............C=0.5, coef0=0, gamma=0.1, kernel=poly; total time=   5.2s\n",
      "[CV] END .............C=0.5, coef0=0, gamma=0.05, kernel=rbf; total time=   7.0s\n",
      "[CV] END .............C=0.5, coef0=0, gamma=0.05, kernel=rbf; total time=   6.9s\n",
      "[CV] END .............C=0.5, coef0=0, gamma=0.05, kernel=rbf; total time=   6.6s\n",
      "[CV] END ............C=0.5, coef0=0, gamma=0.05, kernel=poly; total time=   5.0s\n",
      "[CV] END ............C=0.5, coef0=0, gamma=0.05, kernel=poly; total time=   5.0s\n",
      "[CV] END ............C=0.5, coef0=0, gamma=0.05, kernel=poly; total time=   5.1s\n",
      "[CV] END .............C=0.5, coef0=0, gamma=0.01, kernel=rbf; total time=   5.2s\n",
      "[CV] END .............C=0.5, coef0=0, gamma=0.01, kernel=rbf; total time=   5.4s\n",
      "[CV] END .............C=0.5, coef0=0, gamma=0.01, kernel=rbf; total time=   5.3s\n",
      "[CV] END ............C=0.5, coef0=0, gamma=0.01, kernel=poly; total time=   4.7s\n",
      "[CV] END ............C=0.5, coef0=0, gamma=0.01, kernel=poly; total time=   4.6s\n",
      "[CV] END ............C=0.5, coef0=0, gamma=0.01, kernel=poly; total time=   4.5s\n",
      "[CV] END ............C=0.5, coef0=0, gamma=0.001, kernel=rbf; total time=   6.2s\n",
      "[CV] END ............C=0.5, coef0=0, gamma=0.001, kernel=rbf; total time=   7.0s\n",
      "[CV] END ............C=0.5, coef0=0, gamma=0.001, kernel=rbf; total time=   6.6s\n",
      "[CV] END ...........C=0.5, coef0=0, gamma=0.001, kernel=poly; total time=   3.7s\n",
      "[CV] END ...........C=0.5, coef0=0, gamma=0.001, kernel=poly; total time=   3.8s\n",
      "[CV] END ...........C=0.5, coef0=0, gamma=0.001, kernel=poly; total time=   3.7s\n",
      "[CV] END ............C=0.5, coef0=0, gamma=0.002, kernel=rbf; total time=   5.9s\n",
      "[CV] END ............C=0.5, coef0=0, gamma=0.002, kernel=rbf; total time=   5.9s\n",
      "[CV] END ............C=0.5, coef0=0, gamma=0.002, kernel=rbf; total time=   5.7s\n",
      "[CV] END ...........C=0.5, coef0=0, gamma=0.002, kernel=poly; total time=   4.2s\n",
      "[CV] END ...........C=0.5, coef0=0, gamma=0.002, kernel=poly; total time=   5.9s\n",
      "[CV] END ...........C=0.5, coef0=0, gamma=0.002, kernel=poly; total time=   4.2s\n",
      "[CV] END ............C=0.5, coef0=0, gamma=0.005, kernel=rbf; total time=   5.8s\n",
      "[CV] END ............C=0.5, coef0=0, gamma=0.005, kernel=rbf; total time=   5.4s\n",
      "[CV] END ............C=0.5, coef0=0, gamma=0.005, kernel=rbf; total time=   5.6s\n",
      "[CV] END ...........C=0.5, coef0=0, gamma=0.005, kernel=poly; total time=   4.7s\n",
      "[CV] END ...........C=0.5, coef0=0, gamma=0.005, kernel=poly; total time=   4.2s\n",
      "[CV] END ...........C=0.5, coef0=0, gamma=0.005, kernel=poly; total time=   4.1s\n",
      "[CV] END ..............C=0.5, coef0=1, gamma=0.1, kernel=rbf; total time=   7.6s\n",
      "[CV] END ..............C=0.5, coef0=1, gamma=0.1, kernel=rbf; total time=   7.7s\n",
      "[CV] END ..............C=0.5, coef0=1, gamma=0.1, kernel=rbf; total time=   8.4s\n",
      "[CV] END .............C=0.5, coef0=1, gamma=0.1, kernel=poly; total time=   4.2s\n",
      "[CV] END .............C=0.5, coef0=1, gamma=0.1, kernel=poly; total time=   4.6s\n",
      "[CV] END .............C=0.5, coef0=1, gamma=0.1, kernel=poly; total time=   5.1s\n",
      "[CV] END .............C=0.5, coef0=1, gamma=0.05, kernel=rbf; total time=   7.1s\n",
      "[CV] END .............C=0.5, coef0=1, gamma=0.05, kernel=rbf; total time=   7.2s\n",
      "[CV] END .............C=0.5, coef0=1, gamma=0.05, kernel=rbf; total time=   6.8s\n",
      "[CV] END ............C=0.5, coef0=1, gamma=0.05, kernel=poly; total time=   4.7s\n",
      "[CV] END ............C=0.5, coef0=1, gamma=0.05, kernel=poly; total time=   4.7s\n",
      "[CV] END ............C=0.5, coef0=1, gamma=0.05, kernel=poly; total time=   4.7s\n",
      "[CV] END .............C=0.5, coef0=1, gamma=0.01, kernel=rbf; total time=   5.4s\n",
      "[CV] END .............C=0.5, coef0=1, gamma=0.01, kernel=rbf; total time=   6.0s\n",
      "[CV] END .............C=0.5, coef0=1, gamma=0.01, kernel=rbf; total time=   6.2s\n",
      "[CV] END ............C=0.5, coef0=1, gamma=0.01, kernel=poly; total time=   3.2s\n",
      "[CV] END ............C=0.5, coef0=1, gamma=0.01, kernel=poly; total time=   3.2s\n",
      "[CV] END ............C=0.5, coef0=1, gamma=0.01, kernel=poly; total time=   3.6s\n",
      "[CV] END ............C=0.5, coef0=1, gamma=0.001, kernel=rbf; total time=   6.2s\n",
      "[CV] END ............C=0.5, coef0=1, gamma=0.001, kernel=rbf; total time=   6.4s\n",
      "[CV] END ............C=0.5, coef0=1, gamma=0.001, kernel=rbf; total time=   6.6s\n",
      "[CV] END ...........C=0.5, coef0=1, gamma=0.001, kernel=poly; total time=   3.5s\n",
      "[CV] END ...........C=0.5, coef0=1, gamma=0.001, kernel=poly; total time=   3.6s\n",
      "[CV] END ...........C=0.5, coef0=1, gamma=0.001, kernel=poly; total time=   3.7s\n",
      "[CV] END ............C=0.5, coef0=1, gamma=0.002, kernel=rbf; total time=   6.0s\n",
      "[CV] END ............C=0.5, coef0=1, gamma=0.002, kernel=rbf; total time=   5.9s\n",
      "[CV] END ............C=0.5, coef0=1, gamma=0.002, kernel=rbf; total time=   5.9s\n",
      "[CV] END ...........C=0.5, coef0=1, gamma=0.002, kernel=poly; total time=   3.6s\n",
      "[CV] END ...........C=0.5, coef0=1, gamma=0.002, kernel=poly; total time=   3.7s\n",
      "[CV] END ...........C=0.5, coef0=1, gamma=0.002, kernel=poly; total time=   3.9s\n",
      "[CV] END ............C=0.5, coef0=1, gamma=0.005, kernel=rbf; total time=   5.8s\n",
      "[CV] END ............C=0.5, coef0=1, gamma=0.005, kernel=rbf; total time=   5.6s\n",
      "[CV] END ............C=0.5, coef0=1, gamma=0.005, kernel=rbf; total time=   5.5s\n",
      "[CV] END ...........C=0.5, coef0=1, gamma=0.005, kernel=poly; total time=   3.0s\n",
      "[CV] END ...........C=0.5, coef0=1, gamma=0.005, kernel=poly; total time=   3.3s\n",
      "[CV] END ...........C=0.5, coef0=1, gamma=0.005, kernel=poly; total time=   3.3s\n",
      "[CV] END ................C=1, coef0=0, gamma=0.1, kernel=rbf; total time=   8.1s\n",
      "[CV] END ................C=1, coef0=0, gamma=0.1, kernel=rbf; total time=   7.9s\n",
      "[CV] END ................C=1, coef0=0, gamma=0.1, kernel=rbf; total time=   7.9s\n",
      "[CV] END ...............C=1, coef0=0, gamma=0.1, kernel=poly; total time=   5.0s\n",
      "[CV] END ...............C=1, coef0=0, gamma=0.1, kernel=poly; total time=   5.3s\n",
      "[CV] END ...............C=1, coef0=0, gamma=0.1, kernel=poly; total time=   5.0s\n",
      "[CV] END ...............C=1, coef0=0, gamma=0.05, kernel=rbf; total time=   8.0s\n",
      "[CV] END ...............C=1, coef0=0, gamma=0.05, kernel=rbf; total time=   7.5s\n",
      "[CV] END ...............C=1, coef0=0, gamma=0.05, kernel=rbf; total time=   9.0s\n",
      "[CV] END ..............C=1, coef0=0, gamma=0.05, kernel=poly; total time=   5.7s\n",
      "[CV] END ..............C=1, coef0=0, gamma=0.05, kernel=poly; total time=   6.4s\n",
      "[CV] END ..............C=1, coef0=0, gamma=0.05, kernel=poly; total time=   6.2s\n",
      "[CV] END ...............C=1, coef0=0, gamma=0.01, kernel=rbf; total time=   6.0s\n",
      "[CV] END ...............C=1, coef0=0, gamma=0.01, kernel=rbf; total time=   6.4s\n",
      "[CV] END ...............C=1, coef0=0, gamma=0.01, kernel=rbf; total time=   6.2s\n",
      "[CV] END ..............C=1, coef0=0, gamma=0.01, kernel=poly; total time=   4.7s\n",
      "[CV] END ..............C=1, coef0=0, gamma=0.01, kernel=poly; total time=   4.9s\n",
      "[CV] END ..............C=1, coef0=0, gamma=0.01, kernel=poly; total time=   4.5s\n",
      "[CV] END ..............C=1, coef0=0, gamma=0.001, kernel=rbf; total time=   6.1s\n",
      "[CV] END ..............C=1, coef0=0, gamma=0.001, kernel=rbf; total time=   5.8s\n",
      "[CV] END ..............C=1, coef0=0, gamma=0.001, kernel=rbf; total time=   6.7s\n",
      "[CV] END .............C=1, coef0=0, gamma=0.001, kernel=poly; total time=   4.3s\n",
      "[CV] END .............C=1, coef0=0, gamma=0.001, kernel=poly; total time=   3.9s\n",
      "[CV] END .............C=1, coef0=0, gamma=0.001, kernel=poly; total time=   4.0s\n",
      "[CV] END ..............C=1, coef0=0, gamma=0.002, kernel=rbf; total time=   5.4s\n",
      "[CV] END ..............C=1, coef0=0, gamma=0.002, kernel=rbf; total time=   5.3s\n",
      "[CV] END ..............C=1, coef0=0, gamma=0.002, kernel=rbf; total time=   5.9s\n",
      "[CV] END .............C=1, coef0=0, gamma=0.002, kernel=poly; total time=   4.4s\n",
      "[CV] END .............C=1, coef0=0, gamma=0.002, kernel=poly; total time=   4.1s\n"
     ]
    },
    {
     "name": "stdout",
     "output_type": "stream",
     "text": [
      "[CV] END .............C=1, coef0=0, gamma=0.002, kernel=poly; total time=   4.5s\n",
      "[CV] END ..............C=1, coef0=0, gamma=0.005, kernel=rbf; total time=   5.8s\n",
      "[CV] END ..............C=1, coef0=0, gamma=0.005, kernel=rbf; total time=   5.0s\n",
      "[CV] END ..............C=1, coef0=0, gamma=0.005, kernel=rbf; total time=   5.7s\n",
      "[CV] END .............C=1, coef0=0, gamma=0.005, kernel=poly; total time=   4.5s\n",
      "[CV] END .............C=1, coef0=0, gamma=0.005, kernel=poly; total time=   4.2s\n",
      "[CV] END .............C=1, coef0=0, gamma=0.005, kernel=poly; total time=   4.6s\n",
      "[CV] END ................C=1, coef0=1, gamma=0.1, kernel=rbf; total time=   8.1s\n",
      "[CV] END ................C=1, coef0=1, gamma=0.1, kernel=rbf; total time=   7.8s\n",
      "[CV] END ................C=1, coef0=1, gamma=0.1, kernel=rbf; total time=   7.8s\n",
      "[CV] END ...............C=1, coef0=1, gamma=0.1, kernel=poly; total time=   4.1s\n",
      "[CV] END ...............C=1, coef0=1, gamma=0.1, kernel=poly; total time=   4.3s\n",
      "[CV] END ...............C=1, coef0=1, gamma=0.1, kernel=poly; total time=   4.8s\n",
      "[CV] END ...............C=1, coef0=1, gamma=0.05, kernel=rbf; total time=   7.4s\n",
      "[CV] END ...............C=1, coef0=1, gamma=0.05, kernel=rbf; total time=   9.7s\n",
      "[CV] END ...............C=1, coef0=1, gamma=0.05, kernel=rbf; total time=   7.8s\n",
      "[CV] END ..............C=1, coef0=1, gamma=0.05, kernel=poly; total time=   4.4s\n",
      "[CV] END ..............C=1, coef0=1, gamma=0.05, kernel=poly; total time=   4.6s\n",
      "[CV] END ..............C=1, coef0=1, gamma=0.05, kernel=poly; total time=   4.7s\n",
      "[CV] END ...............C=1, coef0=1, gamma=0.01, kernel=rbf; total time=   5.5s\n",
      "[CV] END ...............C=1, coef0=1, gamma=0.01, kernel=rbf; total time=   5.4s\n",
      "[CV] END ...............C=1, coef0=1, gamma=0.01, kernel=rbf; total time=   5.4s\n",
      "[CV] END ..............C=1, coef0=1, gamma=0.01, kernel=poly; total time=   3.3s\n",
      "[CV] END ..............C=1, coef0=1, gamma=0.01, kernel=poly; total time=   3.7s\n",
      "[CV] END ..............C=1, coef0=1, gamma=0.01, kernel=poly; total time=   3.6s\n",
      "[CV] END ..............C=1, coef0=1, gamma=0.001, kernel=rbf; total time=   5.8s\n",
      "[CV] END ..............C=1, coef0=1, gamma=0.001, kernel=rbf; total time=   5.7s\n",
      "[CV] END ..............C=1, coef0=1, gamma=0.001, kernel=rbf; total time=   6.1s\n",
      "[CV] END .............C=1, coef0=1, gamma=0.001, kernel=poly; total time=   3.2s\n",
      "[CV] END .............C=1, coef0=1, gamma=0.001, kernel=poly; total time=   3.5s\n",
      "[CV] END .............C=1, coef0=1, gamma=0.001, kernel=poly; total time=   3.7s\n",
      "[CV] END ..............C=1, coef0=1, gamma=0.002, kernel=rbf; total time=   5.5s\n",
      "[CV] END ..............C=1, coef0=1, gamma=0.002, kernel=rbf; total time=   5.5s\n",
      "[CV] END ..............C=1, coef0=1, gamma=0.002, kernel=rbf; total time=   5.3s\n",
      "[CV] END .............C=1, coef0=1, gamma=0.002, kernel=poly; total time=   3.1s\n",
      "[CV] END .............C=1, coef0=1, gamma=0.002, kernel=poly; total time=   3.1s\n",
      "[CV] END .............C=1, coef0=1, gamma=0.002, kernel=poly; total time=   3.4s\n",
      "[CV] END ..............C=1, coef0=1, gamma=0.005, kernel=rbf; total time=   5.3s\n",
      "[CV] END ..............C=1, coef0=1, gamma=0.005, kernel=rbf; total time=   5.7s\n",
      "[CV] END ..............C=1, coef0=1, gamma=0.005, kernel=rbf; total time=   5.0s\n",
      "[CV] END .............C=1, coef0=1, gamma=0.005, kernel=poly; total time=   3.5s\n",
      "[CV] END .............C=1, coef0=1, gamma=0.005, kernel=poly; total time=   3.3s\n",
      "[CV] END .............C=1, coef0=1, gamma=0.005, kernel=poly; total time=   3.5s\n",
      "[CV] END ...............C=10, coef0=0, gamma=0.1, kernel=rbf; total time=   7.5s\n",
      "[CV] END ...............C=10, coef0=0, gamma=0.1, kernel=rbf; total time=   7.4s\n",
      "[CV] END ...............C=10, coef0=0, gamma=0.1, kernel=rbf; total time=   7.3s\n",
      "[CV] END ..............C=10, coef0=0, gamma=0.1, kernel=poly; total time=   5.4s\n",
      "[CV] END ..............C=10, coef0=0, gamma=0.1, kernel=poly; total time=   5.1s\n",
      "[CV] END ..............C=10, coef0=0, gamma=0.1, kernel=poly; total time=   5.1s\n",
      "[CV] END ..............C=10, coef0=0, gamma=0.05, kernel=rbf; total time=   8.4s\n",
      "[CV] END ..............C=10, coef0=0, gamma=0.05, kernel=rbf; total time=   7.5s\n",
      "[CV] END ..............C=10, coef0=0, gamma=0.05, kernel=rbf; total time=   7.6s\n",
      "[CV] END .............C=10, coef0=0, gamma=0.05, kernel=poly; total time=   5.6s\n",
      "[CV] END .............C=10, coef0=0, gamma=0.05, kernel=poly; total time=   5.1s\n",
      "[CV] END .............C=10, coef0=0, gamma=0.05, kernel=poly; total time=   5.5s\n",
      "[CV] END ..............C=10, coef0=0, gamma=0.01, kernel=rbf; total time=   6.0s\n",
      "[CV] END ..............C=10, coef0=0, gamma=0.01, kernel=rbf; total time=   6.8s\n",
      "[CV] END ..............C=10, coef0=0, gamma=0.01, kernel=rbf; total time=   6.5s\n",
      "[CV] END .............C=10, coef0=0, gamma=0.01, kernel=poly; total time=   5.1s\n",
      "[CV] END .............C=10, coef0=0, gamma=0.01, kernel=poly; total time=   5.5s\n",
      "[CV] END .............C=10, coef0=0, gamma=0.01, kernel=poly; total time=   4.7s\n",
      "[CV] END .............C=10, coef0=0, gamma=0.001, kernel=rbf; total time=   4.8s\n",
      "[CV] END .............C=10, coef0=0, gamma=0.001, kernel=rbf; total time=   4.8s\n",
      "[CV] END .............C=10, coef0=0, gamma=0.001, kernel=rbf; total time=   5.0s\n",
      "[CV] END ............C=10, coef0=0, gamma=0.001, kernel=poly; total time=   4.6s\n",
      "[CV] END ............C=10, coef0=0, gamma=0.001, kernel=poly; total time=   4.2s\n",
      "[CV] END ............C=10, coef0=0, gamma=0.001, kernel=poly; total time=   4.6s\n",
      "[CV] END .............C=10, coef0=0, gamma=0.002, kernel=rbf; total time=   4.9s\n",
      "[CV] END .............C=10, coef0=0, gamma=0.002, kernel=rbf; total time=   5.1s\n",
      "[CV] END .............C=10, coef0=0, gamma=0.002, kernel=rbf; total time=   5.1s\n",
      "[CV] END ............C=10, coef0=0, gamma=0.002, kernel=poly; total time=   4.4s\n",
      "[CV] END ............C=10, coef0=0, gamma=0.002, kernel=poly; total time=   4.5s\n",
      "[CV] END ............C=10, coef0=0, gamma=0.002, kernel=poly; total time=   4.4s\n",
      "[CV] END .............C=10, coef0=0, gamma=0.005, kernel=rbf; total time=   6.2s\n",
      "[CV] END .............C=10, coef0=0, gamma=0.005, kernel=rbf; total time=   5.8s\n",
      "[CV] END .............C=10, coef0=0, gamma=0.005, kernel=rbf; total time=   5.9s\n",
      "[CV] END ............C=10, coef0=0, gamma=0.005, kernel=poly; total time=   4.7s\n",
      "[CV] END ............C=10, coef0=0, gamma=0.005, kernel=poly; total time=   4.5s\n",
      "[CV] END ............C=10, coef0=0, gamma=0.005, kernel=poly; total time=   4.6s\n",
      "[CV] END ...............C=10, coef0=1, gamma=0.1, kernel=rbf; total time=   7.3s\n",
      "[CV] END ...............C=10, coef0=1, gamma=0.1, kernel=rbf; total time=   7.3s\n",
      "[CV] END ...............C=10, coef0=1, gamma=0.1, kernel=rbf; total time=   7.6s\n",
      "[CV] END ..............C=10, coef0=1, gamma=0.1, kernel=poly; total time=   4.0s\n",
      "[CV] END ..............C=10, coef0=1, gamma=0.1, kernel=poly; total time=   4.2s\n",
      "[CV] END ..............C=10, coef0=1, gamma=0.1, kernel=poly; total time=   4.7s\n",
      "[CV] END ..............C=10, coef0=1, gamma=0.05, kernel=rbf; total time=   7.3s\n",
      "[CV] END ..............C=10, coef0=1, gamma=0.05, kernel=rbf; total time=   7.7s\n",
      "[CV] END ..............C=10, coef0=1, gamma=0.05, kernel=rbf; total time=   7.7s\n",
      "[CV] END .............C=10, coef0=1, gamma=0.05, kernel=poly; total time=   4.6s\n",
      "[CV] END .............C=10, coef0=1, gamma=0.05, kernel=poly; total time=   4.4s\n",
      "[CV] END .............C=10, coef0=1, gamma=0.05, kernel=poly; total time=   4.6s\n",
      "[CV] END ..............C=10, coef0=1, gamma=0.01, kernel=rbf; total time=   6.8s\n",
      "[CV] END ..............C=10, coef0=1, gamma=0.01, kernel=rbf; total time=   5.7s\n",
      "[CV] END ..............C=10, coef0=1, gamma=0.01, kernel=rbf; total time=   6.6s\n",
      "[CV] END .............C=10, coef0=1, gamma=0.01, kernel=poly; total time=   5.1s\n",
      "[CV] END .............C=10, coef0=1, gamma=0.01, kernel=poly; total time=   5.1s\n",
      "[CV] END .............C=10, coef0=1, gamma=0.01, kernel=poly; total time=   5.2s\n",
      "[CV] END .............C=10, coef0=1, gamma=0.001, kernel=rbf; total time=   4.7s\n",
      "[CV] END .............C=10, coef0=1, gamma=0.001, kernel=rbf; total time=   4.9s\n",
      "[CV] END .............C=10, coef0=1, gamma=0.001, kernel=rbf; total time=   4.9s\n",
      "[CV] END ............C=10, coef0=1, gamma=0.001, kernel=poly; total time=   3.4s\n",
      "[CV] END ............C=10, coef0=1, gamma=0.001, kernel=poly; total time=   3.4s\n"
     ]
    },
    {
     "name": "stdout",
     "output_type": "stream",
     "text": [
      "[CV] END ............C=10, coef0=1, gamma=0.001, kernel=poly; total time=   3.9s\n",
      "[CV] END .............C=10, coef0=1, gamma=0.002, kernel=rbf; total time=   8.0s\n",
      "[CV] END .............C=10, coef0=1, gamma=0.002, kernel=rbf; total time=   5.8s\n",
      "[CV] END .............C=10, coef0=1, gamma=0.002, kernel=rbf; total time=   5.4s\n",
      "[CV] END ............C=10, coef0=1, gamma=0.002, kernel=poly; total time=   3.9s\n",
      "[CV] END ............C=10, coef0=1, gamma=0.002, kernel=poly; total time=   3.6s\n",
      "[CV] END ............C=10, coef0=1, gamma=0.002, kernel=poly; total time=   3.9s\n",
      "[CV] END .............C=10, coef0=1, gamma=0.005, kernel=rbf; total time=   5.5s\n",
      "[CV] END .............C=10, coef0=1, gamma=0.005, kernel=rbf; total time=   5.8s\n",
      "[CV] END .............C=10, coef0=1, gamma=0.005, kernel=rbf; total time=   5.9s\n",
      "[CV] END ............C=10, coef0=1, gamma=0.005, kernel=poly; total time=   4.5s\n",
      "[CV] END ............C=10, coef0=1, gamma=0.005, kernel=poly; total time=   5.0s\n",
      "[CV] END ............C=10, coef0=1, gamma=0.005, kernel=poly; total time=   4.4s\n",
      "[CV] END ...............C=20, coef0=0, gamma=0.1, kernel=rbf; total time=   7.6s\n",
      "[CV] END ...............C=20, coef0=0, gamma=0.1, kernel=rbf; total time=   7.4s\n",
      "[CV] END ...............C=20, coef0=0, gamma=0.1, kernel=rbf; total time=   7.4s\n",
      "[CV] END ..............C=20, coef0=0, gamma=0.1, kernel=poly; total time=   5.3s\n",
      "[CV] END ..............C=20, coef0=0, gamma=0.1, kernel=poly; total time=   5.2s\n",
      "[CV] END ..............C=20, coef0=0, gamma=0.1, kernel=poly; total time=   5.2s\n",
      "[CV] END ..............C=20, coef0=0, gamma=0.05, kernel=rbf; total time=   7.3s\n",
      "[CV] END ..............C=20, coef0=0, gamma=0.05, kernel=rbf; total time=   7.1s\n",
      "[CV] END ..............C=20, coef0=0, gamma=0.05, kernel=rbf; total time=   7.2s\n",
      "[CV] END .............C=20, coef0=0, gamma=0.05, kernel=poly; total time=   5.8s\n",
      "[CV] END .............C=20, coef0=0, gamma=0.05, kernel=poly; total time=   5.1s\n",
      "[CV] END .............C=20, coef0=0, gamma=0.05, kernel=poly; total time=   5.4s\n",
      "[CV] END ..............C=20, coef0=0, gamma=0.01, kernel=rbf; total time=   7.0s\n",
      "[CV] END ..............C=20, coef0=0, gamma=0.01, kernel=rbf; total time=   7.1s\n",
      "[CV] END ..............C=20, coef0=0, gamma=0.01, kernel=rbf; total time=   7.4s\n",
      "[CV] END .............C=20, coef0=0, gamma=0.01, kernel=poly; total time=   5.2s\n",
      "[CV] END .............C=20, coef0=0, gamma=0.01, kernel=poly; total time=   4.7s\n",
      "[CV] END .............C=20, coef0=0, gamma=0.01, kernel=poly; total time=   4.5s\n",
      "[CV] END .............C=20, coef0=0, gamma=0.001, kernel=rbf; total time=   5.6s\n",
      "[CV] END .............C=20, coef0=0, gamma=0.001, kernel=rbf; total time=   5.2s\n",
      "[CV] END .............C=20, coef0=0, gamma=0.001, kernel=rbf; total time=   5.0s\n",
      "[CV] END ............C=20, coef0=0, gamma=0.001, kernel=poly; total time=   4.3s\n",
      "[CV] END ............C=20, coef0=0, gamma=0.001, kernel=poly; total time=   4.3s\n",
      "[CV] END ............C=20, coef0=0, gamma=0.001, kernel=poly; total time=   4.4s\n",
      "[CV] END .............C=20, coef0=0, gamma=0.002, kernel=rbf; total time=   5.5s\n",
      "[CV] END .............C=20, coef0=0, gamma=0.002, kernel=rbf; total time=   5.8s\n",
      "[CV] END .............C=20, coef0=0, gamma=0.002, kernel=rbf; total time=   5.4s\n",
      "[CV] END ............C=20, coef0=0, gamma=0.002, kernel=poly; total time=   4.7s\n",
      "[CV] END ............C=20, coef0=0, gamma=0.002, kernel=poly; total time=   4.8s\n",
      "[CV] END ............C=20, coef0=0, gamma=0.002, kernel=poly; total time=   4.2s\n",
      "[CV] END .............C=20, coef0=0, gamma=0.005, kernel=rbf; total time=   6.4s\n",
      "[CV] END .............C=20, coef0=0, gamma=0.005, kernel=rbf; total time=   6.6s\n",
      "[CV] END .............C=20, coef0=0, gamma=0.005, kernel=rbf; total time=   6.5s\n",
      "[CV] END ............C=20, coef0=0, gamma=0.005, kernel=poly; total time=   4.6s\n",
      "[CV] END ............C=20, coef0=0, gamma=0.005, kernel=poly; total time=   4.6s\n",
      "[CV] END ............C=20, coef0=0, gamma=0.005, kernel=poly; total time=   4.6s\n",
      "[CV] END ...............C=20, coef0=1, gamma=0.1, kernel=rbf; total time=   7.5s\n",
      "[CV] END ...............C=20, coef0=1, gamma=0.1, kernel=rbf; total time=   7.1s\n",
      "[CV] END ...............C=20, coef0=1, gamma=0.1, kernel=rbf; total time=   7.9s\n",
      "[CV] END ..............C=20, coef0=1, gamma=0.1, kernel=poly; total time=   4.4s\n",
      "[CV] END ..............C=20, coef0=1, gamma=0.1, kernel=poly; total time=   6.0s\n",
      "[CV] END ..............C=20, coef0=1, gamma=0.1, kernel=poly; total time=   5.0s\n",
      "[CV] END ..............C=20, coef0=1, gamma=0.05, kernel=rbf; total time=   7.8s\n",
      "[CV] END ..............C=20, coef0=1, gamma=0.05, kernel=rbf; total time=   9.6s\n",
      "[CV] END ..............C=20, coef0=1, gamma=0.05, kernel=rbf; total time=   7.6s\n",
      "[CV] END .............C=20, coef0=1, gamma=0.05, kernel=poly; total time=   4.5s\n",
      "[CV] END .............C=20, coef0=1, gamma=0.05, kernel=poly; total time=   4.4s\n",
      "[CV] END .............C=20, coef0=1, gamma=0.05, kernel=poly; total time=   4.3s\n",
      "[CV] END ..............C=20, coef0=1, gamma=0.01, kernel=rbf; total time=   7.2s\n",
      "[CV] END ..............C=20, coef0=1, gamma=0.01, kernel=rbf; total time=   7.0s\n",
      "[CV] END ..............C=20, coef0=1, gamma=0.01, kernel=rbf; total time=   7.8s\n",
      "[CV] END .............C=20, coef0=1, gamma=0.01, kernel=poly; total time=   5.6s\n",
      "[CV] END .............C=20, coef0=1, gamma=0.01, kernel=poly; total time=   5.5s\n",
      "[CV] END .............C=20, coef0=1, gamma=0.01, kernel=poly; total time=   5.9s\n",
      "[CV] END .............C=20, coef0=1, gamma=0.001, kernel=rbf; total time=   5.6s\n",
      "[CV] END .............C=20, coef0=1, gamma=0.001, kernel=rbf; total time=   5.1s\n",
      "[CV] END .............C=20, coef0=1, gamma=0.001, kernel=rbf; total time=   5.3s\n",
      "[CV] END ............C=20, coef0=1, gamma=0.001, kernel=poly; total time=   4.4s\n",
      "[CV] END ............C=20, coef0=1, gamma=0.001, kernel=poly; total time=   3.6s\n",
      "[CV] END ............C=20, coef0=1, gamma=0.001, kernel=poly; total time=   3.6s\n",
      "[CV] END .............C=20, coef0=1, gamma=0.002, kernel=rbf; total time=   5.5s\n",
      "[CV] END .............C=20, coef0=1, gamma=0.002, kernel=rbf; total time=   6.1s\n",
      "[CV] END .............C=20, coef0=1, gamma=0.002, kernel=rbf; total time=   5.2s\n",
      "[CV] END ............C=20, coef0=1, gamma=0.002, kernel=poly; total time=   4.0s\n",
      "[CV] END ............C=20, coef0=1, gamma=0.002, kernel=poly; total time=   4.5s\n",
      "[CV] END ............C=20, coef0=1, gamma=0.002, kernel=poly; total time=   4.1s\n",
      "[CV] END .............C=20, coef0=1, gamma=0.005, kernel=rbf; total time=   5.8s\n",
      "[CV] END .............C=20, coef0=1, gamma=0.005, kernel=rbf; total time=   6.4s\n",
      "[CV] END .............C=20, coef0=1, gamma=0.005, kernel=rbf; total time=   6.0s\n",
      "[CV] END ............C=20, coef0=1, gamma=0.005, kernel=poly; total time=   5.4s\n",
      "[CV] END ............C=20, coef0=1, gamma=0.005, kernel=poly; total time=   5.5s\n",
      "[CV] END ............C=20, coef0=1, gamma=0.005, kernel=poly; total time=   5.8s\n",
      "[CV] END ...............C=30, coef0=0, gamma=0.1, kernel=rbf; total time=   7.9s\n",
      "[CV] END ...............C=30, coef0=0, gamma=0.1, kernel=rbf; total time=   7.6s\n",
      "[CV] END ...............C=30, coef0=0, gamma=0.1, kernel=rbf; total time=   7.5s\n",
      "[CV] END ..............C=30, coef0=0, gamma=0.1, kernel=poly; total time=   5.6s\n",
      "[CV] END ..............C=30, coef0=0, gamma=0.1, kernel=poly; total time=   5.6s\n",
      "[CV] END ..............C=30, coef0=0, gamma=0.1, kernel=poly; total time=   5.4s\n",
      "[CV] END ..............C=30, coef0=0, gamma=0.05, kernel=rbf; total time=   7.2s\n",
      "[CV] END ..............C=30, coef0=0, gamma=0.05, kernel=rbf; total time=   8.4s\n",
      "[CV] END ..............C=30, coef0=0, gamma=0.05, kernel=rbf; total time=  10.8s\n",
      "[CV] END .............C=30, coef0=0, gamma=0.05, kernel=poly; total time=   7.0s\n",
      "[CV] END .............C=30, coef0=0, gamma=0.05, kernel=poly; total time=   5.3s\n",
      "[CV] END .............C=30, coef0=0, gamma=0.05, kernel=poly; total time=   5.2s\n",
      "[CV] END ..............C=30, coef0=0, gamma=0.01, kernel=rbf; total time=   7.4s\n",
      "[CV] END ..............C=30, coef0=0, gamma=0.01, kernel=rbf; total time=   7.8s\n",
      "[CV] END ..............C=30, coef0=0, gamma=0.01, kernel=rbf; total time=   7.5s\n",
      "[CV] END .............C=30, coef0=0, gamma=0.01, kernel=poly; total time=   4.9s\n",
      "[CV] END .............C=30, coef0=0, gamma=0.01, kernel=poly; total time=   5.0s\n"
     ]
    },
    {
     "name": "stdout",
     "output_type": "stream",
     "text": [
      "[CV] END .............C=30, coef0=0, gamma=0.01, kernel=poly; total time=   5.3s\n",
      "[CV] END .............C=30, coef0=0, gamma=0.001, kernel=rbf; total time=   5.4s\n",
      "[CV] END .............C=30, coef0=0, gamma=0.001, kernel=rbf; total time=   5.2s\n",
      "[CV] END .............C=30, coef0=0, gamma=0.001, kernel=rbf; total time=   5.3s\n",
      "[CV] END ............C=30, coef0=0, gamma=0.001, kernel=poly; total time=   4.4s\n",
      "[CV] END ............C=30, coef0=0, gamma=0.001, kernel=poly; total time=   4.9s\n",
      "[CV] END ............C=30, coef0=0, gamma=0.001, kernel=poly; total time=   4.5s\n",
      "[CV] END .............C=30, coef0=0, gamma=0.002, kernel=rbf; total time=   5.6s\n",
      "[CV] END .............C=30, coef0=0, gamma=0.002, kernel=rbf; total time=   5.7s\n",
      "[CV] END .............C=30, coef0=0, gamma=0.002, kernel=rbf; total time=   6.2s\n",
      "[CV] END ............C=30, coef0=0, gamma=0.002, kernel=poly; total time=   4.4s\n",
      "[CV] END ............C=30, coef0=0, gamma=0.002, kernel=poly; total time=   4.8s\n",
      "[CV] END ............C=30, coef0=0, gamma=0.002, kernel=poly; total time=   4.4s\n",
      "[CV] END .............C=30, coef0=0, gamma=0.005, kernel=rbf; total time=   6.1s\n",
      "[CV] END .............C=30, coef0=0, gamma=0.005, kernel=rbf; total time=   6.6s\n",
      "[CV] END .............C=30, coef0=0, gamma=0.005, kernel=rbf; total time=   6.7s\n",
      "[CV] END ............C=30, coef0=0, gamma=0.005, kernel=poly; total time=   4.9s\n",
      "[CV] END ............C=30, coef0=0, gamma=0.005, kernel=poly; total time=   4.2s\n",
      "[CV] END ............C=30, coef0=0, gamma=0.005, kernel=poly; total time=   4.3s\n",
      "[CV] END ...............C=30, coef0=1, gamma=0.1, kernel=rbf; total time=   7.3s\n",
      "[CV] END ...............C=30, coef0=1, gamma=0.1, kernel=rbf; total time=   7.3s\n",
      "[CV] END ...............C=30, coef0=1, gamma=0.1, kernel=rbf; total time=   7.1s\n",
      "[CV] END ..............C=30, coef0=1, gamma=0.1, kernel=poly; total time=   4.8s\n",
      "[CV] END ..............C=30, coef0=1, gamma=0.1, kernel=poly; total time=   4.4s\n",
      "[CV] END ..............C=30, coef0=1, gamma=0.1, kernel=poly; total time=   4.4s\n",
      "[CV] END ..............C=30, coef0=1, gamma=0.05, kernel=rbf; total time=   7.2s\n",
      "[CV] END ..............C=30, coef0=1, gamma=0.05, kernel=rbf; total time=   7.9s\n",
      "[CV] END ..............C=30, coef0=1, gamma=0.05, kernel=rbf; total time=   7.9s\n",
      "[CV] END .............C=30, coef0=1, gamma=0.05, kernel=poly; total time=   4.9s\n",
      "[CV] END .............C=30, coef0=1, gamma=0.05, kernel=poly; total time=   4.5s\n",
      "[CV] END .............C=30, coef0=1, gamma=0.05, kernel=poly; total time=   4.9s\n",
      "[CV] END ..............C=30, coef0=1, gamma=0.01, kernel=rbf; total time=   7.6s\n",
      "[CV] END ..............C=30, coef0=1, gamma=0.01, kernel=rbf; total time=   7.3s\n",
      "[CV] END ..............C=30, coef0=1, gamma=0.01, kernel=rbf; total time=   7.6s\n",
      "[CV] END .............C=30, coef0=1, gamma=0.01, kernel=poly; total time=   6.0s\n",
      "[CV] END .............C=30, coef0=1, gamma=0.01, kernel=poly; total time=   5.8s\n",
      "[CV] END .............C=30, coef0=1, gamma=0.01, kernel=poly; total time=   6.3s\n",
      "[CV] END .............C=30, coef0=1, gamma=0.001, kernel=rbf; total time=   5.3s\n",
      "[CV] END .............C=30, coef0=1, gamma=0.001, kernel=rbf; total time=   5.4s\n",
      "[CV] END .............C=30, coef0=1, gamma=0.001, kernel=rbf; total time=   5.3s\n",
      "[CV] END ............C=30, coef0=1, gamma=0.001, kernel=poly; total time=   3.8s\n",
      "[CV] END ............C=30, coef0=1, gamma=0.001, kernel=poly; total time=   3.9s\n",
      "[CV] END ............C=30, coef0=1, gamma=0.001, kernel=poly; total time=   4.3s\n",
      "[CV] END .............C=30, coef0=1, gamma=0.002, kernel=rbf; total time=   5.9s\n",
      "[CV] END .............C=30, coef0=1, gamma=0.002, kernel=rbf; total time=   6.1s\n",
      "[CV] END .............C=30, coef0=1, gamma=0.002, kernel=rbf; total time=   5.4s\n",
      "[CV] END ............C=30, coef0=1, gamma=0.002, kernel=poly; total time=   4.5s\n",
      "[CV] END ............C=30, coef0=1, gamma=0.002, kernel=poly; total time=   4.8s\n",
      "[CV] END ............C=30, coef0=1, gamma=0.002, kernel=poly; total time=   4.9s\n",
      "[CV] END .............C=30, coef0=1, gamma=0.005, kernel=rbf; total time=   6.7s\n",
      "[CV] END .............C=30, coef0=1, gamma=0.005, kernel=rbf; total time=   6.6s\n",
      "[CV] END .............C=30, coef0=1, gamma=0.005, kernel=rbf; total time=   6.9s\n",
      "[CV] END ............C=30, coef0=1, gamma=0.005, kernel=poly; total time=   6.4s\n",
      "[CV] END ............C=30, coef0=1, gamma=0.005, kernel=poly; total time=   6.7s\n",
      "[CV] END ............C=30, coef0=1, gamma=0.005, kernel=poly; total time=   6.4s\n",
      "[CV] END ...............C=50, coef0=0, gamma=0.1, kernel=rbf; total time=   7.6s\n",
      "[CV] END ...............C=50, coef0=0, gamma=0.1, kernel=rbf; total time=   7.5s\n",
      "[CV] END ...............C=50, coef0=0, gamma=0.1, kernel=rbf; total time=   7.3s\n",
      "[CV] END ..............C=50, coef0=0, gamma=0.1, kernel=poly; total time=   5.0s\n",
      "[CV] END ..............C=50, coef0=0, gamma=0.1, kernel=poly; total time=   5.1s\n",
      "[CV] END ..............C=50, coef0=0, gamma=0.1, kernel=poly; total time=   5.2s\n",
      "[CV] END ..............C=50, coef0=0, gamma=0.05, kernel=rbf; total time=   7.1s\n",
      "[CV] END ..............C=50, coef0=0, gamma=0.05, kernel=rbf; total time=   7.4s\n",
      "[CV] END ..............C=50, coef0=0, gamma=0.05, kernel=rbf; total time=   7.0s\n",
      "[CV] END .............C=50, coef0=0, gamma=0.05, kernel=poly; total time=   5.0s\n",
      "[CV] END .............C=50, coef0=0, gamma=0.05, kernel=poly; total time=   5.2s\n",
      "[CV] END .............C=50, coef0=0, gamma=0.05, kernel=poly; total time=   5.0s\n",
      "[CV] END ..............C=50, coef0=0, gamma=0.01, kernel=rbf; total time=   7.7s\n",
      "[CV] END ..............C=50, coef0=0, gamma=0.01, kernel=rbf; total time=   7.6s\n",
      "[CV] END ..............C=50, coef0=0, gamma=0.01, kernel=rbf; total time=   7.8s\n",
      "[CV] END .............C=50, coef0=0, gamma=0.01, kernel=poly; total time=   4.6s\n",
      "[CV] END .............C=50, coef0=0, gamma=0.01, kernel=poly; total time=   4.8s\n",
      "[CV] END .............C=50, coef0=0, gamma=0.01, kernel=poly; total time=   4.9s\n",
      "[CV] END .............C=50, coef0=0, gamma=0.001, kernel=rbf; total time=   5.7s\n",
      "[CV] END .............C=50, coef0=0, gamma=0.001, kernel=rbf; total time=   5.6s\n",
      "[CV] END .............C=50, coef0=0, gamma=0.001, kernel=rbf; total time=   6.0s\n",
      "[CV] END ............C=50, coef0=0, gamma=0.001, kernel=poly; total time=   4.5s\n",
      "[CV] END ............C=50, coef0=0, gamma=0.001, kernel=poly; total time=   5.0s\n",
      "[CV] END ............C=50, coef0=0, gamma=0.001, kernel=poly; total time=   4.1s\n",
      "[CV] END .............C=50, coef0=0, gamma=0.002, kernel=rbf; total time=   6.6s\n",
      "[CV] END .............C=50, coef0=0, gamma=0.002, kernel=rbf; total time=   6.1s\n",
      "[CV] END .............C=50, coef0=0, gamma=0.002, kernel=rbf; total time=   6.1s\n",
      "[CV] END ............C=50, coef0=0, gamma=0.002, kernel=poly; total time=   4.4s\n",
      "[CV] END ............C=50, coef0=0, gamma=0.002, kernel=poly; total time=   4.7s\n",
      "[CV] END ............C=50, coef0=0, gamma=0.002, kernel=poly; total time=   4.4s\n",
      "[CV] END .............C=50, coef0=0, gamma=0.005, kernel=rbf; total time=   7.1s\n",
      "[CV] END .............C=50, coef0=0, gamma=0.005, kernel=rbf; total time=   7.5s\n",
      "[CV] END .............C=50, coef0=0, gamma=0.005, kernel=rbf; total time=   7.5s\n",
      "[CV] END ............C=50, coef0=0, gamma=0.005, kernel=poly; total time=   4.7s\n",
      "[CV] END ............C=50, coef0=0, gamma=0.005, kernel=poly; total time=   4.7s\n",
      "[CV] END ............C=50, coef0=0, gamma=0.005, kernel=poly; total time=   4.6s\n",
      "[CV] END ...............C=50, coef0=1, gamma=0.1, kernel=rbf; total time=   7.6s\n",
      "[CV] END ...............C=50, coef0=1, gamma=0.1, kernel=rbf; total time=   7.3s\n",
      "[CV] END ...............C=50, coef0=1, gamma=0.1, kernel=rbf; total time=   7.9s\n",
      "[CV] END ..............C=50, coef0=1, gamma=0.1, kernel=poly; total time=   4.4s\n",
      "[CV] END ..............C=50, coef0=1, gamma=0.1, kernel=poly; total time=   4.2s\n",
      "[CV] END ..............C=50, coef0=1, gamma=0.1, kernel=poly; total time=   4.7s\n",
      "[CV] END ..............C=50, coef0=1, gamma=0.05, kernel=rbf; total time=   7.2s\n",
      "[CV] END ..............C=50, coef0=1, gamma=0.05, kernel=rbf; total time=   7.5s\n",
      "[CV] END ..............C=50, coef0=1, gamma=0.05, kernel=rbf; total time=   7.0s\n",
      "[CV] END .............C=50, coef0=1, gamma=0.05, kernel=poly; total time=   4.4s\n",
      "[CV] END .............C=50, coef0=1, gamma=0.05, kernel=poly; total time=   4.8s\n"
     ]
    },
    {
     "name": "stdout",
     "output_type": "stream",
     "text": [
      "[CV] END .............C=50, coef0=1, gamma=0.05, kernel=poly; total time=   5.1s\n",
      "[CV] END ..............C=50, coef0=1, gamma=0.01, kernel=rbf; total time=   7.5s\n",
      "[CV] END ..............C=50, coef0=1, gamma=0.01, kernel=rbf; total time=   7.1s\n",
      "[CV] END ..............C=50, coef0=1, gamma=0.01, kernel=rbf; total time=   6.7s\n",
      "[CV] END .............C=50, coef0=1, gamma=0.01, kernel=poly; total time=   6.6s\n",
      "[CV] END .............C=50, coef0=1, gamma=0.01, kernel=poly; total time=   6.1s\n",
      "[CV] END .............C=50, coef0=1, gamma=0.01, kernel=poly; total time=   8.2s\n",
      "[CV] END .............C=50, coef0=1, gamma=0.001, kernel=rbf; total time=   7.3s\n",
      "[CV] END .............C=50, coef0=1, gamma=0.001, kernel=rbf; total time=   6.2s\n",
      "[CV] END .............C=50, coef0=1, gamma=0.001, kernel=rbf; total time=   6.0s\n",
      "[CV] END ............C=50, coef0=1, gamma=0.001, kernel=poly; total time=   4.6s\n",
      "[CV] END ............C=50, coef0=1, gamma=0.001, kernel=poly; total time=   4.3s\n",
      "[CV] END ............C=50, coef0=1, gamma=0.001, kernel=poly; total time=   4.7s\n",
      "[CV] END .............C=50, coef0=1, gamma=0.002, kernel=rbf; total time=   6.1s\n",
      "[CV] END .............C=50, coef0=1, gamma=0.002, kernel=rbf; total time=   6.5s\n",
      "[CV] END .............C=50, coef0=1, gamma=0.002, kernel=rbf; total time=   6.6s\n",
      "[CV] END ............C=50, coef0=1, gamma=0.002, kernel=poly; total time=   6.3s\n",
      "[CV] END ............C=50, coef0=1, gamma=0.002, kernel=poly; total time=   6.0s\n",
      "[CV] END ............C=50, coef0=1, gamma=0.002, kernel=poly; total time=   5.4s\n",
      "[CV] END .............C=50, coef0=1, gamma=0.005, kernel=rbf; total time=   7.5s\n",
      "[CV] END .............C=50, coef0=1, gamma=0.005, kernel=rbf; total time=   7.5s\n",
      "[CV] END .............C=50, coef0=1, gamma=0.005, kernel=rbf; total time=   7.1s\n",
      "[CV] END ............C=50, coef0=1, gamma=0.005, kernel=poly; total time=   7.7s\n",
      "[CV] END ............C=50, coef0=1, gamma=0.005, kernel=poly; total time=   7.1s\n",
      "[CV] END ............C=50, coef0=1, gamma=0.005, kernel=poly; total time=   8.2s\n"
     ]
    },
    {
     "data": {
      "text/plain": [
       "GridSearchCV(cv=3, estimator=SVC(probability=True),\n",
       "             param_grid={'C': [0.5, 1, 10, 20, 30, 50], 'coef0': [0, 1],\n",
       "                         'gamma': [0.1, 0.05, 0.01, 0.001, 0.002, 0.005],\n",
       "                         'kernel': ['rbf', 'poly']},\n",
       "             scoring='accuracy', verbose=2)"
      ]
     },
     "execution_count": 24,
     "metadata": {},
     "output_type": "execute_result"
    }
   ],
   "source": [
    "model_grid.fit(x_train,y_train)"
   ]
  },
  {
   "cell_type": "code",
   "execution_count": 25,
   "id": "be5b03be",
   "metadata": {},
   "outputs": [
    {
     "data": {
      "text/plain": [
       "{'C': 1, 'coef0': 0, 'gamma': 0.05, 'kernel': 'rbf'}"
      ]
     },
     "execution_count": 25,
     "metadata": {},
     "output_type": "execute_result"
    }
   ],
   "source": [
    "model_grid.best_params_"
   ]
  },
  {
   "cell_type": "code",
   "execution_count": 27,
   "id": "d437f238",
   "metadata": {},
   "outputs": [],
   "source": [
    "model_final = model_grid.best_estimator_"
   ]
  },
  {
   "cell_type": "code",
   "execution_count": 28,
   "id": "eaa4e380",
   "metadata": {},
   "outputs": [
    {
     "data": {
      "text/plain": [
       "{'C': 1,\n",
       " 'break_ties': False,\n",
       " 'cache_size': 200,\n",
       " 'class_weight': None,\n",
       " 'coef0': 0,\n",
       " 'decision_function_shape': 'ovr',\n",
       " 'degree': 3,\n",
       " 'gamma': 0.05,\n",
       " 'kernel': 'rbf',\n",
       " 'max_iter': -1,\n",
       " 'probability': True,\n",
       " 'random_state': None,\n",
       " 'shrinking': True,\n",
       " 'tol': 0.001,\n",
       " 'verbose': False}"
      ]
     },
     "execution_count": 28,
     "metadata": {},
     "output_type": "execute_result"
    }
   ],
   "source": [
    "model_final.get_params()"
   ]
  },
  {
   "cell_type": "markdown",
   "id": "d4188f57",
   "metadata": {},
   "source": [
    "# Model Evaluation"
   ]
  },
  {
   "cell_type": "markdown",
   "id": "13f9a88d",
   "metadata": {},
   "source": [
    "- Classifictaion report\n",
    "    - Precesion, Recall,F1-score\n",
    "- Kappa score\n",
    "    - -1 to +1 (worest to best)\n",
    "- AUC\n",
    "    - 0 to 1 (worest to best)"
   ]
  },
  {
   "cell_type": "code",
   "execution_count": 29,
   "id": "15cc4431",
   "metadata": {},
   "outputs": [],
   "source": [
    "y_pred = model_final.predict(x_test)"
   ]
  },
  {
   "cell_type": "code",
   "execution_count": 30,
   "id": "dc1dcc0d",
   "metadata": {},
   "outputs": [
    {
     "data": {
      "text/plain": [
       "array(['gender', 'gender', 'gender', 'male', 'gender', 'gender', 'male',\n",
       "       'gender', 'male', 'gender', 'male', 'gender', 'gender', 'gender',\n",
       "       'gender', 'gender', 'gender', 'gender', 'gender', 'male', 'male',\n",
       "       'gender', 'male', 'gender', 'gender', 'male', 'gender', 'gender',\n",
       "       'male', 'gender', 'gender', 'gender', 'gender', 'gender', 'gender',\n",
       "       'male', 'gender', 'gender', 'gender', 'male', 'male', 'male',\n",
       "       'male', 'male', 'gender', 'male', 'gender', 'gender', 'male',\n",
       "       'gender', 'gender', 'male', 'gender', 'gender', 'gender', 'gender',\n",
       "       'male', 'male', 'male', 'gender', 'male', 'male', 'gender',\n",
       "       'gender', 'male', 'male', 'gender', 'male', 'male', 'male',\n",
       "       'gender', 'gender', 'gender', 'gender', 'gender', 'male', 'male',\n",
       "       'gender', 'gender', 'gender', 'gender', 'male', 'male', 'gender',\n",
       "       'gender', 'gender', 'gender', 'gender', 'gender', 'male', 'gender',\n",
       "       'gender', 'male', 'gender', 'gender', 'gender', 'male', 'gender',\n",
       "       'male', 'gender', 'gender', 'male', 'male', 'gender', 'gender',\n",
       "       'gender', 'male', 'male', 'male', 'gender', 'male', 'gender',\n",
       "       'gender', 'male', 'gender', 'gender', 'male', 'gender', 'gender',\n",
       "       'male', 'male', 'gender', 'male', 'gender', 'gender', 'gender',\n",
       "       'gender', 'gender', 'gender', 'gender', 'male', 'gender', 'male',\n",
       "       'male', 'male', 'gender', 'male', 'gender', 'male', 'gender',\n",
       "       'gender', 'male', 'male', 'male', 'male', 'gender', 'gender',\n",
       "       'male', 'male', 'gender', 'male', 'male', 'gender', 'gender',\n",
       "       'male', 'gender', 'male', 'male', 'male', 'gender', 'male',\n",
       "       'gender', 'gender', 'male', 'gender', 'male', 'gender', 'gender',\n",
       "       'gender', 'male', 'gender', 'gender', 'male', 'male', 'male',\n",
       "       'male', 'male', 'gender', 'gender', 'gender', 'gender', 'gender',\n",
       "       'gender', 'gender', 'gender', 'male', 'male', 'gender', 'gender',\n",
       "       'gender', 'male', 'male', 'male', 'male', 'gender', 'gender',\n",
       "       'gender', 'gender', 'male', 'gender', 'gender', 'male', 'gender',\n",
       "       'male', 'male', 'gender', 'gender', 'male', 'male', 'gender',\n",
       "       'gender', 'gender', 'gender', 'male', 'gender', 'male', 'gender',\n",
       "       'male', 'gender', 'gender', 'male', 'gender', 'gender', 'gender',\n",
       "       'gender', 'gender', 'male', 'male', 'male', 'male', 'gender',\n",
       "       'gender', 'gender', 'gender', 'gender', 'male', 'gender', 'male',\n",
       "       'gender', 'gender', 'gender', 'male', 'gender', 'male', 'gender',\n",
       "       'gender', 'male', 'gender', 'gender', 'gender', 'male', 'gender',\n",
       "       'gender', 'male', 'male', 'gender', 'male', 'gender', 'male',\n",
       "       'male', 'male', 'gender', 'male', 'male', 'gender', 'gender',\n",
       "       'male', 'gender', 'gender', 'male', 'gender', 'male', 'gender',\n",
       "       'male', 'gender', 'male', 'male', 'gender', 'male', 'gender',\n",
       "       'gender', 'gender', 'male', 'gender', 'male', 'male', 'gender',\n",
       "       'male', 'gender', 'gender', 'male', 'male', 'male', 'gender',\n",
       "       'gender', 'male', 'male', 'gender', 'male', 'gender', 'gender',\n",
       "       'gender', 'gender', 'male', 'male', 'male', 'gender', 'gender',\n",
       "       'male', 'gender', 'gender', 'male', 'gender', 'gender', 'male',\n",
       "       'gender', 'gender', 'gender', 'gender', 'gender', 'male', 'male',\n",
       "       'male', 'gender', 'gender', 'male', 'male', 'male', 'gender',\n",
       "       'male', 'gender', 'gender', 'gender', 'gender', 'male', 'gender',\n",
       "       'gender', 'male', 'gender', 'male', 'male', 'gender', 'male',\n",
       "       'gender', 'male', 'male', 'gender', 'gender', 'male', 'gender',\n",
       "       'male', 'gender', 'gender', 'male', 'male', 'gender', 'gender',\n",
       "       'male', 'gender', 'gender', 'gender', 'male', 'male', 'gender',\n",
       "       'male', 'gender', 'gender', 'gender', 'gender', 'male', 'gender',\n",
       "       'male', 'male', 'male', 'gender', 'gender', 'male', 'gender',\n",
       "       'male', 'gender', 'gender', 'gender', 'gender', 'male', 'gender',\n",
       "       'gender', 'gender', 'male', 'gender', 'male', 'male', 'gender',\n",
       "       'male', 'gender', 'gender', 'gender', 'male', 'male', 'gender',\n",
       "       'male', 'gender', 'gender', 'gender', 'gender', 'male', 'gender',\n",
       "       'gender', 'gender', 'gender', 'gender', 'gender', 'male', 'gender',\n",
       "       'gender', 'gender', 'male', 'gender', 'gender', 'male', 'gender',\n",
       "       'male', 'gender', 'male', 'gender', 'gender', 'gender', 'gender',\n",
       "       'male', 'male', 'gender', 'male', 'male', 'male', 'male', 'gender',\n",
       "       'male', 'male', 'gender', 'male', 'male', 'gender', 'gender',\n",
       "       'male', 'male', 'gender', 'male', 'gender', 'male', 'male',\n",
       "       'gender', 'male', 'gender', 'male', 'gender', 'male', 'gender',\n",
       "       'male', 'male', 'male', 'gender', 'male', 'male', 'gender',\n",
       "       'gender', 'gender', 'gender', 'gender', 'male', 'male', 'male',\n",
       "       'gender', 'gender', 'gender', 'gender', 'gender', 'gender',\n",
       "       'gender', 'male', 'gender', 'gender', 'male', 'male', 'male',\n",
       "       'male', 'gender', 'male', 'male', 'male', 'gender', 'gender',\n",
       "       'male', 'gender', 'gender', 'gender', 'gender', 'male', 'gender',\n",
       "       'male', 'gender', 'gender', 'gender', 'gender', 'gender', 'gender',\n",
       "       'gender', 'gender', 'gender', 'gender', 'male', 'male', 'gender',\n",
       "       'male', 'gender', 'gender', 'male', 'male', 'male', 'gender',\n",
       "       'male', 'gender', 'gender', 'gender', 'gender', 'male', 'gender',\n",
       "       'gender', 'male', 'gender', 'gender', 'gender', 'gender', 'gender',\n",
       "       'male', 'gender', 'gender', 'gender', 'gender', 'male', 'gender',\n",
       "       'gender', 'gender', 'gender', 'male', 'gender', 'gender', 'gender',\n",
       "       'gender', 'gender', 'gender', 'gender', 'male', 'gender', 'gender',\n",
       "       'gender', 'gender', 'gender', 'gender', 'male', 'male', 'gender',\n",
       "       'male', 'gender', 'gender', 'gender', 'male', 'gender', 'gender',\n",
       "       'male', 'male', 'gender', 'male', 'male', 'gender', 'male', 'male',\n",
       "       'gender', 'male', 'male', 'gender', 'male', 'male', 'male', 'male',\n",
       "       'male', 'male', 'gender', 'gender', 'male', 'gender', 'male',\n",
       "       'male', 'gender', 'gender', 'male', 'male', 'gender', 'male',\n",
       "       'male', 'gender', 'gender', 'male', 'gender', 'gender', 'male',\n",
       "       'male', 'male', 'gender', 'male', 'gender', 'male', 'gender',\n",
       "       'gender', 'male', 'male', 'gender', 'male', 'gender', 'gender',\n",
       "       'gender', 'male', 'male', 'male', 'male', 'gender', 'gender',\n",
       "       'male', 'gender', 'male', 'gender', 'gender', 'male', 'gender',\n",
       "       'gender', 'male', 'gender', 'gender', 'male', 'male', 'male',\n",
       "       'gender', 'male', 'male', 'gender', 'male', 'gender', 'gender',\n",
       "       'male', 'male', 'male', 'gender', 'male', 'male', 'gender',\n",
       "       'gender', 'male', 'male', 'gender', 'gender', 'gender', 'gender',\n",
       "       'male', 'gender', 'male', 'male', 'male', 'male', 'male', 'male',\n",
       "       'gender', 'male', 'male', 'male', 'gender', 'male', 'gender',\n",
       "       'gender', 'gender', 'male', 'male', 'gender', 'gender', 'male',\n",
       "       'male', 'gender', 'gender', 'gender', 'male', 'gender', 'male',\n",
       "       'gender', 'male', 'male', 'gender', 'gender', 'gender', 'male',\n",
       "       'gender', 'gender', 'gender', 'male', 'male', 'gender', 'male',\n",
       "       'gender', 'male', 'gender', 'gender', 'male', 'male', 'gender',\n",
       "       'gender', 'male', 'gender', 'gender', 'male', 'male', 'gender',\n",
       "       'male', 'male', 'male', 'male', 'male', 'male', 'male', 'male',\n",
       "       'male', 'male', 'gender', 'gender', 'male', 'gender', 'male',\n",
       "       'male', 'gender', 'gender', 'male', 'gender', 'gender', 'male',\n",
       "       'male', 'male', 'male', 'male', 'male', 'gender', 'gender',\n",
       "       'gender', 'male', 'gender', 'male', 'male', 'gender', 'gender',\n",
       "       'gender', 'gender', 'gender', 'gender', 'gender', 'male', 'gender',\n",
       "       'male', 'male', 'male', 'gender', 'gender', 'male', 'gender',\n",
       "       'male', 'gender', 'gender', 'gender', 'male', 'gender', 'male',\n",
       "       'male', 'male', 'male', 'gender', 'gender', 'gender', 'gender',\n",
       "       'male', 'male', 'male', 'male', 'gender', 'male', 'gender',\n",
       "       'gender', 'male', 'male', 'gender', 'gender', 'gender', 'male',\n",
       "       'male', 'gender', 'gender', 'gender', 'gender', 'gender', 'male',\n",
       "       'gender', 'male', 'male', 'male', 'male', 'male', 'gender',\n",
       "       'gender', 'gender', 'male', 'gender', 'male', 'gender', 'gender',\n",
       "       'male', 'gender', 'male', 'gender', 'male', 'male', 'gender',\n",
       "       'gender', 'gender', 'gender', 'male', 'male', 'gender', 'male',\n",
       "       'male', 'male', 'gender', 'male', 'gender', 'male', 'gender',\n",
       "       'gender', 'gender', 'gender', 'male', 'male', 'gender', 'gender',\n",
       "       'gender', 'gender', 'male', 'gender', 'male', 'male', 'gender',\n",
       "       'gender', 'male', 'male', 'male', 'gender', 'gender', 'male',\n",
       "       'gender', 'male', 'male', 'gender', 'male', 'male', 'male', 'male',\n",
       "       'gender', 'gender', 'gender', 'male', 'gender', 'gender', 'male',\n",
       "       'gender', 'male', 'gender', 'gender', 'gender', 'male', 'gender',\n",
       "       'male', 'gender', 'gender', 'gender', 'gender', 'male', 'male',\n",
       "       'male', 'male', 'male', 'gender', 'gender', 'male', 'male', 'male',\n",
       "       'male', 'gender', 'male', 'male', 'gender', 'male', 'male',\n",
       "       'gender', 'male', 'gender', 'male', 'male', 'gender', 'male',\n",
       "       'male', 'gender'], dtype=object)"
      ]
     },
     "execution_count": 30,
     "metadata": {},
     "output_type": "execute_result"
    }
   ],
   "source": [
    "y_pred"
   ]
  },
  {
   "cell_type": "markdown",
   "id": "e7972a12",
   "metadata": {},
   "source": [
    "## Classification report\n"
   ]
  },
  {
   "cell_type": "code",
   "execution_count": 31,
   "id": "f1e40743",
   "metadata": {},
   "outputs": [],
   "source": [
    "cr = metrics.classification_report(y_test,y_pred,output_dict=True)"
   ]
  },
  {
   "cell_type": "code",
   "execution_count": 32,
   "id": "cedf1eca",
   "metadata": {},
   "outputs": [
    {
     "data": {
      "text/html": [
       "<div>\n",
       "<style scoped>\n",
       "    .dataframe tbody tr th:only-of-type {\n",
       "        vertical-align: middle;\n",
       "    }\n",
       "\n",
       "    .dataframe tbody tr th {\n",
       "        vertical-align: top;\n",
       "    }\n",
       "\n",
       "    .dataframe thead th {\n",
       "        text-align: right;\n",
       "    }\n",
       "</style>\n",
       "<table border=\"1\" class=\"dataframe\">\n",
       "  <thead>\n",
       "    <tr style=\"text-align: right;\">\n",
       "      <th></th>\n",
       "      <th>precision</th>\n",
       "      <th>recall</th>\n",
       "      <th>f1-score</th>\n",
       "      <th>support</th>\n",
       "    </tr>\n",
       "  </thead>\n",
       "  <tbody>\n",
       "    <tr>\n",
       "      <th>gender</th>\n",
       "      <td>0.807540</td>\n",
       "      <td>0.822222</td>\n",
       "      <td>0.814815</td>\n",
       "      <td>495.000000</td>\n",
       "    </tr>\n",
       "    <tr>\n",
       "      <th>male</th>\n",
       "      <td>0.783784</td>\n",
       "      <td>0.766827</td>\n",
       "      <td>0.775213</td>\n",
       "      <td>416.000000</td>\n",
       "    </tr>\n",
       "    <tr>\n",
       "      <th>accuracy</th>\n",
       "      <td>0.796926</td>\n",
       "      <td>0.796926</td>\n",
       "      <td>0.796926</td>\n",
       "      <td>0.796926</td>\n",
       "    </tr>\n",
       "    <tr>\n",
       "      <th>macro avg</th>\n",
       "      <td>0.795662</td>\n",
       "      <td>0.794525</td>\n",
       "      <td>0.795014</td>\n",
       "      <td>911.000000</td>\n",
       "    </tr>\n",
       "    <tr>\n",
       "      <th>weighted avg</th>\n",
       "      <td>0.796692</td>\n",
       "      <td>0.796926</td>\n",
       "      <td>0.796731</td>\n",
       "      <td>911.000000</td>\n",
       "    </tr>\n",
       "  </tbody>\n",
       "</table>\n",
       "</div>"
      ],
      "text/plain": [
       "              precision    recall  f1-score     support\n",
       "gender         0.807540  0.822222  0.814815  495.000000\n",
       "male           0.783784  0.766827  0.775213  416.000000\n",
       "accuracy       0.796926  0.796926  0.796926    0.796926\n",
       "macro avg      0.795662  0.794525  0.795014  911.000000\n",
       "weighted avg   0.796692  0.796926  0.796731  911.000000"
      ]
     },
     "execution_count": 32,
     "metadata": {},
     "output_type": "execute_result"
    }
   ],
   "source": [
    "pd.DataFrame(cr).T"
   ]
  },
  {
   "cell_type": "markdown",
   "id": "62f4c52e",
   "metadata": {},
   "source": [
    "# kappa score"
   ]
  },
  {
   "cell_type": "code",
   "execution_count": 37,
   "id": "1252cc7d",
   "metadata": {},
   "outputs": [
    {
     "data": {
      "text/plain": [
       "0.5900678375886887"
      ]
     },
     "execution_count": 37,
     "metadata": {},
     "output_type": "execute_result"
    }
   ],
   "source": [
    "metrics.cohen_kappa_score(y_test,y_pred)"
   ]
  },
  {
   "cell_type": "markdown",
   "id": "581e6add",
   "metadata": {},
   "source": [
    "# AUC"
   ]
  },
  {
   "cell_type": "code",
   "execution_count": 38,
   "id": "92f7ebf6",
   "metadata": {},
   "outputs": [
    {
     "data": {
      "text/plain": [
       "0.7945245726495727"
      ]
     },
     "execution_count": 38,
     "metadata": {},
     "output_type": "execute_result"
    }
   ],
   "source": [
    "metrics.roc_auc_score(np.where(y_test==\"male\",1,0),np.where(y_pred==\"male\",1,0))"
   ]
  },
  {
   "cell_type": "markdown",
   "id": "5b2d7a55",
   "metadata": {},
   "source": [
    "# Save Face Recognition Model"
   ]
  },
  {
   "cell_type": "code",
   "execution_count": 40,
   "id": "bbfa0cec",
   "metadata": {},
   "outputs": [],
   "source": [
    "import pickle"
   ]
  },
  {
   "cell_type": "code",
   "execution_count": 41,
   "id": "e050d9ec",
   "metadata": {},
   "outputs": [],
   "source": [
    "pickle.dump(model_final,open(\"./model/model_svm.pickle\",mode='wb'))"
   ]
  },
  {
   "cell_type": "code",
   "execution_count": null,
   "id": "7f9f5e11",
   "metadata": {},
   "outputs": [],
   "source": []
  }
 ],
 "metadata": {
  "kernelspec": {
   "display_name": "Python 3 (ipykernel)",
   "language": "python",
   "name": "python3"
  },
  "language_info": {
   "codemirror_mode": {
    "name": "ipython",
    "version": 3
   },
   "file_extension": ".py",
   "mimetype": "text/x-python",
   "name": "python",
   "nbconvert_exporter": "python",
   "pygments_lexer": "ipython3",
   "version": "3.9.12"
  }
 },
 "nbformat": 4,
 "nbformat_minor": 5
}
