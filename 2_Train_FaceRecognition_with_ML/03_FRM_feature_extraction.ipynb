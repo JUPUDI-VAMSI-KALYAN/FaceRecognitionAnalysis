{
 "cells": [
  {
   "cell_type": "code",
   "execution_count": 2,
   "id": "af18faf6",
   "metadata": {},
   "outputs": [],
   "source": [
    "import numpy as np\n",
    "import pandas as pd\n",
    "import matplotlib.pyplot as plt\n",
    "\n",
    "import cv2\n",
    "from sklearn.decomposition import PCA\n",
    "import pickle"
   ]
  },
  {
   "cell_type": "code",
   "execution_count": 3,
   "id": "90930712",
   "metadata": {},
   "outputs": [],
   "source": [
    "data = pickle.load(open(\"./data/data_images_100_100.pickle\",mode=\"rb\"))"
   ]
  },
  {
   "cell_type": "code",
   "execution_count": 4,
   "id": "50f302a2",
   "metadata": {},
   "outputs": [
    {
     "data": {
      "text/html": [
       "<div>\n",
       "<style scoped>\n",
       "    .dataframe tbody tr th:only-of-type {\n",
       "        vertical-align: middle;\n",
       "    }\n",
       "\n",
       "    .dataframe tbody tr th {\n",
       "        vertical-align: top;\n",
       "    }\n",
       "\n",
       "    .dataframe thead th {\n",
       "        text-align: right;\n",
       "    }\n",
       "</style>\n",
       "<table border=\"1\" class=\"dataframe\">\n",
       "  <thead>\n",
       "    <tr style=\"text-align: right;\">\n",
       "      <th></th>\n",
       "      <th>pixel_0</th>\n",
       "      <th>pixel_1</th>\n",
       "      <th>pixel_2</th>\n",
       "      <th>pixel_3</th>\n",
       "      <th>pixel_4</th>\n",
       "      <th>pixel_5</th>\n",
       "      <th>pixel_6</th>\n",
       "      <th>pixel_7</th>\n",
       "      <th>pixel_8</th>\n",
       "      <th>pixel_9</th>\n",
       "      <th>...</th>\n",
       "      <th>pixel_9991</th>\n",
       "      <th>pixel_9992</th>\n",
       "      <th>pixel_9993</th>\n",
       "      <th>pixel_9994</th>\n",
       "      <th>pixel_9995</th>\n",
       "      <th>pixel_9996</th>\n",
       "      <th>pixel_9997</th>\n",
       "      <th>pixel_9998</th>\n",
       "      <th>pixel_9999</th>\n",
       "      <th>gender</th>\n",
       "    </tr>\n",
       "  </thead>\n",
       "  <tbody>\n",
       "    <tr>\n",
       "      <th>0</th>\n",
       "      <td>0.737255</td>\n",
       "      <td>0.713725</td>\n",
       "      <td>0.713725</td>\n",
       "      <td>0.725490</td>\n",
       "      <td>0.682353</td>\n",
       "      <td>0.709804</td>\n",
       "      <td>0.752941</td>\n",
       "      <td>0.705882</td>\n",
       "      <td>0.850980</td>\n",
       "      <td>0.854902</td>\n",
       "      <td>...</td>\n",
       "      <td>0.435294</td>\n",
       "      <td>0.450980</td>\n",
       "      <td>0.454902</td>\n",
       "      <td>0.478431</td>\n",
       "      <td>0.454902</td>\n",
       "      <td>0.470588</td>\n",
       "      <td>0.466667</td>\n",
       "      <td>0.458824</td>\n",
       "      <td>0.431373</td>\n",
       "      <td>gender</td>\n",
       "    </tr>\n",
       "    <tr>\n",
       "      <th>1</th>\n",
       "      <td>0.125490</td>\n",
       "      <td>0.090196</td>\n",
       "      <td>0.121569</td>\n",
       "      <td>0.105882</td>\n",
       "      <td>0.109804</td>\n",
       "      <td>0.117647</td>\n",
       "      <td>0.109804</td>\n",
       "      <td>0.129412</td>\n",
       "      <td>0.141176</td>\n",
       "      <td>0.117647</td>\n",
       "      <td>...</td>\n",
       "      <td>0.184314</td>\n",
       "      <td>0.105882</td>\n",
       "      <td>0.133333</td>\n",
       "      <td>0.086275</td>\n",
       "      <td>0.105882</td>\n",
       "      <td>0.090196</td>\n",
       "      <td>0.145098</td>\n",
       "      <td>0.247059</td>\n",
       "      <td>0.070588</td>\n",
       "      <td>gender</td>\n",
       "    </tr>\n",
       "    <tr>\n",
       "      <th>2</th>\n",
       "      <td>0.192157</td>\n",
       "      <td>0.192157</td>\n",
       "      <td>0.137255</td>\n",
       "      <td>0.133333</td>\n",
       "      <td>0.164706</td>\n",
       "      <td>0.156863</td>\n",
       "      <td>0.137255</td>\n",
       "      <td>0.152941</td>\n",
       "      <td>0.278431</td>\n",
       "      <td>0.243137</td>\n",
       "      <td>...</td>\n",
       "      <td>0.901961</td>\n",
       "      <td>0.905882</td>\n",
       "      <td>0.929412</td>\n",
       "      <td>0.933333</td>\n",
       "      <td>0.901961</td>\n",
       "      <td>0.862745</td>\n",
       "      <td>0.831373</td>\n",
       "      <td>0.823529</td>\n",
       "      <td>0.815686</td>\n",
       "      <td>gender</td>\n",
       "    </tr>\n",
       "    <tr>\n",
       "      <th>3</th>\n",
       "      <td>0.517647</td>\n",
       "      <td>0.474510</td>\n",
       "      <td>0.462745</td>\n",
       "      <td>0.380392</td>\n",
       "      <td>0.333333</td>\n",
       "      <td>0.360784</td>\n",
       "      <td>0.356863</td>\n",
       "      <td>0.431373</td>\n",
       "      <td>0.607843</td>\n",
       "      <td>0.635294</td>\n",
       "      <td>...</td>\n",
       "      <td>0.435294</td>\n",
       "      <td>0.243137</td>\n",
       "      <td>0.243137</td>\n",
       "      <td>0.258824</td>\n",
       "      <td>0.317647</td>\n",
       "      <td>0.352941</td>\n",
       "      <td>0.392157</td>\n",
       "      <td>0.423529</td>\n",
       "      <td>0.443137</td>\n",
       "      <td>gender</td>\n",
       "    </tr>\n",
       "    <tr>\n",
       "      <th>4</th>\n",
       "      <td>0.917647</td>\n",
       "      <td>0.917647</td>\n",
       "      <td>0.917647</td>\n",
       "      <td>0.894118</td>\n",
       "      <td>0.905882</td>\n",
       "      <td>0.803922</td>\n",
       "      <td>0.478431</td>\n",
       "      <td>0.384314</td>\n",
       "      <td>0.290196</td>\n",
       "      <td>0.211765</td>\n",
       "      <td>...</td>\n",
       "      <td>0.952941</td>\n",
       "      <td>0.929412</td>\n",
       "      <td>0.929412</td>\n",
       "      <td>0.937255</td>\n",
       "      <td>0.929412</td>\n",
       "      <td>0.925490</td>\n",
       "      <td>0.945098</td>\n",
       "      <td>0.933333</td>\n",
       "      <td>0.941176</td>\n",
       "      <td>gender</td>\n",
       "    </tr>\n",
       "  </tbody>\n",
       "</table>\n",
       "<p>5 rows × 10001 columns</p>\n",
       "</div>"
      ],
      "text/plain": [
       "    pixel_0   pixel_1   pixel_2   pixel_3   pixel_4   pixel_5   pixel_6  \\\n",
       "0  0.737255  0.713725  0.713725  0.725490  0.682353  0.709804  0.752941   \n",
       "1  0.125490  0.090196  0.121569  0.105882  0.109804  0.117647  0.109804   \n",
       "2  0.192157  0.192157  0.137255  0.133333  0.164706  0.156863  0.137255   \n",
       "3  0.517647  0.474510  0.462745  0.380392  0.333333  0.360784  0.356863   \n",
       "4  0.917647  0.917647  0.917647  0.894118  0.905882  0.803922  0.478431   \n",
       "\n",
       "    pixel_7   pixel_8   pixel_9  ...  pixel_9991  pixel_9992  pixel_9993  \\\n",
       "0  0.705882  0.850980  0.854902  ...    0.435294    0.450980    0.454902   \n",
       "1  0.129412  0.141176  0.117647  ...    0.184314    0.105882    0.133333   \n",
       "2  0.152941  0.278431  0.243137  ...    0.901961    0.905882    0.929412   \n",
       "3  0.431373  0.607843  0.635294  ...    0.435294    0.243137    0.243137   \n",
       "4  0.384314  0.290196  0.211765  ...    0.952941    0.929412    0.929412   \n",
       "\n",
       "   pixel_9994  pixel_9995  pixel_9996  pixel_9997  pixel_9998  pixel_9999  \\\n",
       "0    0.478431    0.454902    0.470588    0.466667    0.458824    0.431373   \n",
       "1    0.086275    0.105882    0.090196    0.145098    0.247059    0.070588   \n",
       "2    0.933333    0.901961    0.862745    0.831373    0.823529    0.815686   \n",
       "3    0.258824    0.317647    0.352941    0.392157    0.423529    0.443137   \n",
       "4    0.937255    0.929412    0.925490    0.945098    0.933333    0.941176   \n",
       "\n",
       "   gender  \n",
       "0  gender  \n",
       "1  gender  \n",
       "2  gender  \n",
       "3  gender  \n",
       "4  gender  \n",
       "\n",
       "[5 rows x 10001 columns]"
      ]
     },
     "execution_count": 4,
     "metadata": {},
     "output_type": "execute_result"
    }
   ],
   "source": [
    "data.head()"
   ]
  },
  {
   "cell_type": "markdown",
   "id": "fbc469b1",
   "metadata": {},
   "source": [
    "## Eigen Face"
   ]
  },
  {
   "cell_type": "code",
   "execution_count": 5,
   "id": "9927def9",
   "metadata": {},
   "outputs": [],
   "source": [
    "# Mean face\n",
    "\n",
    "X = data.drop('gender',axis=1).values\n",
    "\n"
   ]
  },
  {
   "cell_type": "code",
   "execution_count": 6,
   "id": "f02e3deb",
   "metadata": {},
   "outputs": [
    {
     "data": {
      "text/plain": [
       "(4555, 10000)"
      ]
     },
     "execution_count": 6,
     "metadata": {},
     "output_type": "execute_result"
    }
   ],
   "source": [
    "X.shape"
   ]
  },
  {
   "cell_type": "code",
   "execution_count": 7,
   "id": "117ebcc7",
   "metadata": {},
   "outputs": [
    {
     "data": {
      "text/plain": [
       "array([[0.7372549 , 0.71372549, 0.71372549, ..., 0.46666667, 0.45882353,\n",
       "        0.43137255],\n",
       "       [0.1254902 , 0.09019608, 0.12156863, ..., 0.14509804, 0.24705882,\n",
       "        0.07058824],\n",
       "       [0.19215686, 0.19215686, 0.1372549 , ..., 0.83137255, 0.82352941,\n",
       "        0.81568627],\n",
       "       ...,\n",
       "       [0.70196078, 0.70588235, 0.70588235, ..., 0.67058824, 0.69019608,\n",
       "        0.72941176],\n",
       "       [0.14901961, 0.14509804, 0.14509804, ..., 0.23921569, 0.25490196,\n",
       "        0.26666667],\n",
       "       [0.71372549, 0.71764706, 0.72156863, ..., 0.74509804, 0.74509804,\n",
       "        0.74509804]])"
      ]
     },
     "execution_count": 7,
     "metadata": {},
     "output_type": "execute_result"
    }
   ],
   "source": [
    "X"
   ]
  },
  {
   "cell_type": "code",
   "execution_count": 8,
   "id": "8704cc72",
   "metadata": {},
   "outputs": [],
   "source": [
    "mean_face = X.mean(axis=0) # flattern mean face"
   ]
  },
  {
   "cell_type": "code",
   "execution_count": 9,
   "id": "661cd164",
   "metadata": {},
   "outputs": [
    {
     "data": {
      "text/plain": [
       "(10000,)"
      ]
     },
     "execution_count": 9,
     "metadata": {},
     "output_type": "execute_result"
    }
   ],
   "source": [
    "mean_face.shape"
   ]
  },
  {
   "cell_type": "code",
   "execution_count": 10,
   "id": "0845f574",
   "metadata": {},
   "outputs": [
    {
     "data": {
      "image/png": "[encoded data removed]",
      "text/plain": [
       "<Figure size 432x288 with 1 Axes>"
      ]
     },
     "metadata": {
      "needs_background": "light"
     },
     "output_type": "display_data"
    }
   ],
   "source": [
    "# Visualize mean face\n",
    "plt.imshow(mean_face.reshape((100,100)),cmap=\"gray\")\n",
    "plt.show()"
   ]
  },
  {
   "cell_type": "markdown",
   "id": "991988fa",
   "metadata": {},
   "source": [
    "## substract data with mean face"
   ]
  },
  {
   "cell_type": "code",
   "execution_count": 11,
   "id": "38217ef5",
   "metadata": {},
   "outputs": [],
   "source": [
    "X_t = X- mean_face # transformed data"
   ]
  },
  {
   "cell_type": "markdown",
   "id": "9d06d74b",
   "metadata": {},
   "source": [
    "** Apply X_t data to PCA**\n",
    "\n",
    "- find the right nuber of component - Elbow\n",
    "- with right number of component compute principal component"
   ]
  },
  {
   "cell_type": "code",
   "execution_count": 12,
   "id": "9c013f81",
   "metadata": {},
   "outputs": [
    {
     "data": {
      "text/plain": [
       "PCA(whiten=True)"
      ]
     },
     "execution_count": 12,
     "metadata": {},
     "output_type": "execute_result"
    }
   ],
   "source": [
    "pca = PCA(n_components=None,whiten=True,svd_solver='auto')\n",
    "pca.fit(X_t)"
   ]
  },
  {
   "cell_type": "code",
   "execution_count": 13,
   "id": "d38bd1cd",
   "metadata": {},
   "outputs": [
    {
     "data": {
      "text/html": [
       "<div>\n",
       "<style scoped>\n",
       "    .dataframe tbody tr th:only-of-type {\n",
       "        vertical-align: middle;\n",
       "    }\n",
       "\n",
       "    .dataframe tbody tr th {\n",
       "        vertical-align: top;\n",
       "    }\n",
       "\n",
       "    .dataframe thead th {\n",
       "        text-align: right;\n",
       "    }\n",
       "</style>\n",
       "<table border=\"1\" class=\"dataframe\">\n",
       "  <thead>\n",
       "    <tr style=\"text-align: right;\">\n",
       "      <th></th>\n",
       "      <th>explained_var</th>\n",
       "      <th>cum_explained_var</th>\n",
       "      <th>principal_components</th>\n",
       "    </tr>\n",
       "  </thead>\n",
       "  <tbody>\n",
       "    <tr>\n",
       "      <th>0</th>\n",
       "      <td>0.252588</td>\n",
       "      <td>0.252588</td>\n",
       "      <td>1</td>\n",
       "    </tr>\n",
       "    <tr>\n",
       "      <th>1</th>\n",
       "      <td>0.115090</td>\n",
       "      <td>0.367678</td>\n",
       "      <td>2</td>\n",
       "    </tr>\n",
       "    <tr>\n",
       "      <th>2</th>\n",
       "      <td>0.104164</td>\n",
       "      <td>0.471842</td>\n",
       "      <td>3</td>\n",
       "    </tr>\n",
       "    <tr>\n",
       "      <th>3</th>\n",
       "      <td>0.051754</td>\n",
       "      <td>0.523596</td>\n",
       "      <td>4</td>\n",
       "    </tr>\n",
       "    <tr>\n",
       "      <th>4</th>\n",
       "      <td>0.032961</td>\n",
       "      <td>0.556557</td>\n",
       "      <td>5</td>\n",
       "    </tr>\n",
       "  </tbody>\n",
       "</table>\n",
       "</div>"
      ],
      "text/plain": [
       "   explained_var  cum_explained_var  principal_components\n",
       "0       0.252588           0.252588                     1\n",
       "1       0.115090           0.367678                     2\n",
       "2       0.104164           0.471842                     3\n",
       "3       0.051754           0.523596                     4\n",
       "4       0.032961           0.556557                     5"
      ]
     },
     "execution_count": 13,
     "metadata": {},
     "output_type": "execute_result"
    }
   ],
   "source": [
    "exp_var_df = pd.DataFrame()\n",
    "exp_var_df[\"explained_var\"] = pca.explained_variance_ratio_\n",
    "exp_var_df[\"cum_explained_var\"] = exp_var_df[\"explained_var\"].cumsum()\n",
    "exp_var_df[\"principal_components\"] = np.arange(1,len(exp_var_df)+1)\n",
    "exp_var_df.head()"
   ]
  },
  {
   "cell_type": "code",
   "execution_count": 14,
   "id": "37f821fd",
   "metadata": {},
   "outputs": [],
   "source": [
    "exp_var_df.set_index('principal_components',inplace=True)"
   ]
  },
  {
   "cell_type": "code",
   "execution_count": 15,
   "id": "745e1b84",
   "metadata": {},
   "outputs": [
    {
     "data": {
      "text/plain": [
       "<AxesSubplot:xlabel='principal_components'>"
      ]
     },
     "execution_count": 15,
     "metadata": {},
     "output_type": "execute_result"
    },
    {
     "data": {
      "image/png": "[encoded data removed]",
      "text/plain": [
       "<Figure size 1080x864 with 2 Axes>"
      ]
     },
     "metadata": {
      "needs_background": "light"
     },
     "output_type": "display_data"
    }
   ],
   "source": [
    "# visualization explained variance\n",
    "fig,ax = plt.subplots(nrows=2,figsize=(15,12))\n",
    "\n",
    "exp_var_df[\"explained_var\"].head(100).plot(kind='line',marker='o',ax=ax[0])\n",
    "exp_var_df[\"cum_explained_var\"].head(100).plot(kind='line',marker='o',ax=ax[1])"
   ]
  },
  {
   "cell_type": "code",
   "execution_count": 16,
   "id": "482044ef",
   "metadata": {},
   "outputs": [],
   "source": [
    "pca_50 = PCA(n_components=50,whiten=True,svd_solver='auto')\n",
    "pca_data = pca_50.fit_transform(X_t)"
   ]
  },
  {
   "cell_type": "code",
   "execution_count": 17,
   "id": "a4d19237",
   "metadata": {},
   "outputs": [
    {
     "data": {
      "text/plain": [
       "(4555, 50)"
      ]
     },
     "execution_count": 17,
     "metadata": {},
     "output_type": "execute_result"
    }
   ],
   "source": [
    "pca_data.shape"
   ]
  },
  {
   "cell_type": "markdown",
   "id": "f220bd21",
   "metadata": {},
   "source": [
    "# saving data and models"
   ]
  },
  {
   "cell_type": "code",
   "execution_count": 18,
   "id": "1d61a252",
   "metadata": {},
   "outputs": [],
   "source": [
    "y = data[\"gender\"].values"
   ]
  },
  {
   "cell_type": "code",
   "execution_count": 19,
   "id": "c05addd7",
   "metadata": {},
   "outputs": [],
   "source": [
    "np.savez(\"./data/data_pca_50_target\",pca_data,y)"
   ]
  },
  {
   "cell_type": "code",
   "execution_count": 20,
   "id": "f5e414aa",
   "metadata": {},
   "outputs": [],
   "source": [
    "## saving the model\n",
    "pca_dict = {'pca':pca_50,\"mean_face\":mean_face}"
   ]
  },
  {
   "cell_type": "code",
   "execution_count": 21,
   "id": "5e53efd8",
   "metadata": {},
   "outputs": [],
   "source": [
    "pickle.dump(pca_dict,open(\"model/pca_dict.pickle\",\"wb\"))"
   ]
  },
  {
   "cell_type": "markdown",
   "id": "5271782f",
   "metadata": {},
   "source": [
    "## Visualize Eigen Image"
   ]
  },
  {
   "cell_type": "code",
   "execution_count": 22,
   "id": "bc9ffa7d",
   "metadata": {},
   "outputs": [],
   "source": [
    "pca_data_inv = pca_50.inverse_transform(pca_data)"
   ]
  },
  {
   "cell_type": "code",
   "execution_count": 23,
   "id": "d219b476",
   "metadata": {},
   "outputs": [
    {
     "data": {
      "text/plain": [
       "(4555, 10000)"
      ]
     },
     "execution_count": 23,
     "metadata": {},
     "output_type": "execute_result"
    }
   ],
   "source": [
    "pca_data_inv.shape"
   ]
  },
  {
   "cell_type": "code",
   "execution_count": 26,
   "id": "0f0b5d91",
   "metadata": {},
   "outputs": [
    {
     "data": {
      "text/plain": [
       "(100, 100)"
      ]
     },
     "execution_count": 26,
     "metadata": {},
     "output_type": "execute_result"
    }
   ],
   "source": [
    "eig_img = pca_data_inv[0,:].reshape((100,100))\n",
    "eig_img.shape"
   ]
  },
  {
   "cell_type": "code",
   "execution_count": 27,
   "id": "60143c67",
   "metadata": {},
   "outputs": [
    {
     "data": {
      "image/png": "[encoded data removed]",
      "text/plain": [
       "<Figure size 432x288 with 1 Axes>"
      ]
     },
     "metadata": {
      "needs_background": "light"
     },
     "output_type": "display_data"
    }
   ],
   "source": [
    "plt.imshow(eig_img,cmap='gray')\n",
    "plt.show()"
   ]
  },
  {
   "cell_type": "code",
   "execution_count": null,
   "id": "c59aabc3",
   "metadata": {},
   "outputs": [],
   "source": []
  }
 ],
 "metadata": {
  "kernelspec": {
   "display_name": "Python 3 (ipykernel)",
   "language": "python",
   "name": "python3"
  },
  "language_info": {
   "codemirror_mode": {
    "name": "ipython",
    "version": 3
   },
   "file_extension": ".py",
   "mimetype": "text/x-python",
   "name": "python",
   "nbconvert_exporter": "python",
   "pygments_lexer": "ipython3",
   "version": "3.9.12"
  }
 },
 "nbformat": 4,
 "nbformat_minor": 5
}
