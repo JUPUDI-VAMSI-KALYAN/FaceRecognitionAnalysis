{
 "cells": [
  {
   "cell_type": "code",
   "execution_count": 1,
   "id": "9eeff9c7",
   "metadata": {},
   "outputs": [],
   "source": [
    "import numpy as np\n",
    "import cv2"
   ]
  },
  {
   "cell_type": "code",
   "execution_count": 3,
   "id": "ac37ba6a",
   "metadata": {},
   "outputs": [
    {
     "name": "stdout",
     "output_type": "stream",
     "text": [
      "(480, 640, 3)\n"
     ]
    }
   ],
   "source": [
    "img = cv2.imread(\"./data/flying_bird.jpg\")\n",
    "print(img.shape)\n",
    "cv2.imshow('Original',img)\n",
    "cv2.waitKey(0)\n",
    "cv2.destroyAllWindows()"
   ]
  },
  {
   "cell_type": "markdown",
   "id": "19f4d708",
   "metadata": {},
   "source": [
    "# Task\n",
    " - Shrink image\n",
    " - Enlarge Image"
   ]
  },
  {
   "cell_type": "code",
   "execution_count": 4,
   "id": "81786959",
   "metadata": {},
   "outputs": [],
   "source": [
    "# shrink image\n",
    "img_shrink = cv2.resize(img,dsize=(320,240),interpolation=cv2.INTER_AREA)\n",
    "\n",
    "# enlarge image cv2.INTER_CUBIC,cv2.INTER_LINEAR\n",
    "enlarge_image = cv2.resize(img,dsize=(1280,960),interpolation=cv2.INTER_CUBIC)\n",
    "\n",
    "cv2.imshow('shrink',img_shrink)\n",
    "cv2.imshow('enlarge',enlarge_image)\n",
    "cv2.waitKey(0)\n",
    "cv2.destroyAllWindows()"
   ]
  },
  {
   "cell_type": "code",
   "execution_count": 5,
   "id": "ef490f1a",
   "metadata": {},
   "outputs": [
    {
     "data": {
      "text/plain": [
       "((240, 320, 3), (960, 1280, 3))"
      ]
     },
     "execution_count": 5,
     "metadata": {},
     "output_type": "execute_result"
    }
   ],
   "source": [
    "img_shrink.shape,enlarge_image.shape"
   ]
  },
  {
   "cell_type": "code",
   "execution_count": null,
   "id": "b00677ff",
   "metadata": {},
   "outputs": [],
   "source": []
  }
 ],
 "metadata": {
  "kernelspec": {
   "display_name": "Python 3 (ipykernel)",
   "language": "python",
   "name": "python3"
  },
  "language_info": {
   "codemirror_mode": {
    "name": "ipython",
    "version": 3
   },
   "file_extension": ".py",
   "mimetype": "text/x-python",
   "name": "python",
   "nbconvert_exporter": "python",
   "pygments_lexer": "ipython3",
   "version": "3.9.12"
  }
 },
 "nbformat": 4,
 "nbformat_minor": 5
}
