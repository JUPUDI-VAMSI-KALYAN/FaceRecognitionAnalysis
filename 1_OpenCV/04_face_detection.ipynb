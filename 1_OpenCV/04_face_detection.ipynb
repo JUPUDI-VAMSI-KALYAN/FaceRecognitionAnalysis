{
 "cells": [
  {
   "cell_type": "code",
   "execution_count": 1,
   "id": "10be6c9d",
   "metadata": {},
   "outputs": [],
   "source": [
    "import numpy as np\n",
    "import cv2\n"
   ]
  },
  {
   "cell_type": "code",
   "execution_count": 3,
   "id": "b2ea119b",
   "metadata": {},
   "outputs": [],
   "source": [
    "img = cv2.imread(\"./data/male_000281.jpg\")\n",
    "cv2.imshow(\"image\",img)\n",
    "cv2.waitKey(0)\n",
    "cv2.destroyAllWindows()"
   ]
  },
  {
   "cell_type": "code",
   "execution_count": 4,
   "id": "4692aebc",
   "metadata": {},
   "outputs": [],
   "source": [
    "# Loading cascade classifier\n",
    "haar = cv2.CascadeClassifier('./data/haarcascade_frontalface_default.xml')"
   ]
  },
  {
   "cell_type": "code",
   "execution_count": 8,
   "id": "c753b3f6",
   "metadata": {},
   "outputs": [],
   "source": [
    "image = img.copy()\n",
    "\n",
    "# step 1 Convert image to grayscale\n",
    "gray = cv2.cvtColor(img,cv2.COLOR_BGR2GRAY)\n",
    "\n",
    "# step 2 - apply cascade filter\n",
    "face_rect = haar.detectMultiScale(gray,1.5,5)\n",
    "#step 3 - draw bounding box\n",
    "for x,y,w,h in face_rect:\n",
    "    cv2.rectangle(image,(x,y),(x+w,y+h),(0,255,0),2)\n",
    "\n",
    "cv2.imshow(\"Detceted faces\",image)\n",
    "cv2.waitKey(0)\n",
    "cv2.destroyAllWindows()"
   ]
  },
  {
   "cell_type": "code",
   "execution_count": 7,
   "id": "b9678bbe",
   "metadata": {},
   "outputs": [
    {
     "data": {
      "text/plain": [
       "array([[152,  89, 269, 269]])"
      ]
     },
     "execution_count": 7,
     "metadata": {},
     "output_type": "execute_result"
    }
   ],
   "source": [
    "face_rect"
   ]
  },
  {
   "cell_type": "markdown",
   "id": "94d50bd4",
   "metadata": {},
   "source": [
    "# Realtime Face detection using opencv"
   ]
  },
  {
   "cell_type": "code",
   "execution_count": 13,
   "id": "2edbe260",
   "metadata": {},
   "outputs": [],
   "source": [
    "cap = cv2.VideoCapture('./data/video.mp4')\n",
    "\n",
    "while True:\n",
    "    ret,frame  = cap.read()\n",
    "    if ret is False:\n",
    "        break\n",
    "        \n",
    "    image = frame.copy()\n",
    "\n",
    "    # step 1 Convert image to grayscale\n",
    "    gray = cv2.cvtColor(frame,cv2.COLOR_BGR2GRAY)\n",
    "\n",
    "    # step 2 - apply cascade filter\n",
    "    face_rect = haar.detectMultiScale(gray,1.5,5)\n",
    "    #step 3 - draw bounding box\n",
    "    for x,y,w,h in face_rect:\n",
    "        cv2.rectangle(image,(x,y),(x+w,y+h),(0,255,0),2)\n",
    "    cv2.imshow('frame',image)\n",
    "    \n",
    "    if cv2.waitKey(10)==27:\n",
    "        break\n",
    "cap.release()\n",
    "cv2.destroyAllWindows()"
   ]
  },
  {
   "cell_type": "code",
   "execution_count": null,
   "id": "b7457d9a",
   "metadata": {},
   "outputs": [],
   "source": []
  }
 ],
 "metadata": {
  "kernelspec": {
   "display_name": "Python 3 (ipykernel)",
   "language": "python",
   "name": "python3"
  },
  "language_info": {
   "codemirror_mode": {
    "name": "ipython",
    "version": 3
   },
   "file_extension": ".py",
   "mimetype": "text/x-python",
   "name": "python",
   "nbconvert_exporter": "python",
   "pygments_lexer": "ipython3",
   "version": "3.9.12"
  }
 },
 "nbformat": 4,
 "nbformat_minor": 5
}
